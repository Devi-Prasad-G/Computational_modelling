{
 "cells": [
  {
   "cell_type": "markdown",
   "id": "purple-shipping",
   "metadata": {},
   "source": [
    "# A"
   ]
  },
  {
   "cell_type": "code",
   "execution_count": 12,
   "id": "limited-opening",
   "metadata": {},
   "outputs": [],
   "source": [
    "import pandas as pd\n",
    "import numpy as np\n",
    "from matplotlib import pyplot as plt"
   ]
  },
  {
   "cell_type": "code",
   "execution_count": 13,
   "id": "compound-acceptance",
   "metadata": {},
   "outputs": [],
   "source": [
    "import matplotlib"
   ]
  },
  {
   "cell_type": "code",
   "execution_count": 2,
   "id": "strategic-galaxy",
   "metadata": {},
   "outputs": [
    {
     "name": "stdout",
     "output_type": "stream",
     "text": [
      "    0\n",
      "0  60\n",
      "1  64\n",
      "2  61\n",
      "3  56\n",
      "4  62\n"
     ]
    }
   ],
   "source": [
    "stai_scores = pd.read_csv(\"stai_scores.csv\",header = None)\n",
    "#stai_score 20-80 with 80 more anxiety\n",
    "print(stai_scores.head(5))"
   ]
  },
  {
   "cell_type": "code",
   "execution_count": 3,
   "id": "excellent-password",
   "metadata": {},
   "outputs": [
    {
     "name": "stdout",
     "output_type": "stream",
     "text": [
      "mean =  45.42 median =  42.5 standard deviation =  15.92368047908523\n"
     ]
    }
   ],
   "source": [
    "mean,median,st_dev = np.mean(stai_scores[0]),np.median(stai_scores[0]),np.std(stai_scores[0])\n",
    "print(\"mean = \",mean,\"median = \",median,\"standard deviation = \",st_dev)"
   ]
  },
  {
   "cell_type": "code",
   "execution_count": 4,
   "id": "fundamental-worthy",
   "metadata": {},
   "outputs": [
    {
     "name": "stdout",
     "output_type": "stream",
     "text": [
      "indices =  Int64Index([21, 25, 27, 28, 29, 30, 31, 32, 33, 34, 35, 36, 37, 38, 39, 40, 41,\n",
      "            42, 43, 44, 45, 46, 47, 48, 49],\n",
      "           dtype='int64')\n"
     ]
    }
   ],
   "source": [
    "healthy_controls = stai_scores[stai_scores[0] <= 43]\n",
    "print(\"indices = \",healthy_controls.index)\n",
    "#print(\"values = \",healthy_controls.values)"
   ]
  },
  {
   "cell_type": "code",
   "execution_count": 5,
   "id": "agreed-brother",
   "metadata": {},
   "outputs": [],
   "source": [
    "#healthy_controls"
   ]
  },
  {
   "cell_type": "code",
   "execution_count": 6,
   "id": "bound-brighton",
   "metadata": {},
   "outputs": [
    {
     "data": {
      "text/html": [
       "<div>\n",
       "<style scoped>\n",
       "    .dataframe tbody tr th:only-of-type {\n",
       "        vertical-align: middle;\n",
       "    }\n",
       "\n",
       "    .dataframe tbody tr th {\n",
       "        vertical-align: top;\n",
       "    }\n",
       "\n",
       "    .dataframe thead th {\n",
       "        text-align: right;\n",
       "    }\n",
       "</style>\n",
       "<table border=\"1\" class=\"dataframe\">\n",
       "  <thead>\n",
       "    <tr style=\"text-align: right;\">\n",
       "      <th></th>\n",
       "      <th>0</th>\n",
       "      <th>1</th>\n",
       "      <th>2</th>\n",
       "      <th>3</th>\n",
       "      <th>4</th>\n",
       "      <th>5</th>\n",
       "      <th>6</th>\n",
       "      <th>7</th>\n",
       "      <th>8</th>\n",
       "      <th>9</th>\n",
       "      <th>...</th>\n",
       "      <th>150</th>\n",
       "      <th>151</th>\n",
       "      <th>152</th>\n",
       "      <th>153</th>\n",
       "      <th>154</th>\n",
       "      <th>155</th>\n",
       "      <th>156</th>\n",
       "      <th>157</th>\n",
       "      <th>158</th>\n",
       "      <th>159</th>\n",
       "    </tr>\n",
       "  </thead>\n",
       "  <tbody>\n",
       "    <tr>\n",
       "      <th>0</th>\n",
       "      <td>2</td>\n",
       "      <td>1</td>\n",
       "      <td>2</td>\n",
       "      <td>2</td>\n",
       "      <td>2</td>\n",
       "      <td>2</td>\n",
       "      <td>2</td>\n",
       "      <td>2</td>\n",
       "      <td>2</td>\n",
       "      <td>2</td>\n",
       "      <td>...</td>\n",
       "      <td>2</td>\n",
       "      <td>2</td>\n",
       "      <td>2</td>\n",
       "      <td>2</td>\n",
       "      <td>2</td>\n",
       "      <td>2</td>\n",
       "      <td>2</td>\n",
       "      <td>2</td>\n",
       "      <td>2</td>\n",
       "      <td>1</td>\n",
       "    </tr>\n",
       "    <tr>\n",
       "      <th>1</th>\n",
       "      <td>2</td>\n",
       "      <td>2</td>\n",
       "      <td>2</td>\n",
       "      <td>1</td>\n",
       "      <td>2</td>\n",
       "      <td>2</td>\n",
       "      <td>2</td>\n",
       "      <td>2</td>\n",
       "      <td>2</td>\n",
       "      <td>1</td>\n",
       "      <td>...</td>\n",
       "      <td>2</td>\n",
       "      <td>2</td>\n",
       "      <td>2</td>\n",
       "      <td>2</td>\n",
       "      <td>2</td>\n",
       "      <td>2</td>\n",
       "      <td>2</td>\n",
       "      <td>1</td>\n",
       "      <td>1</td>\n",
       "      <td>1</td>\n",
       "    </tr>\n",
       "    <tr>\n",
       "      <th>2</th>\n",
       "      <td>2</td>\n",
       "      <td>1</td>\n",
       "      <td>2</td>\n",
       "      <td>2</td>\n",
       "      <td>1</td>\n",
       "      <td>2</td>\n",
       "      <td>1</td>\n",
       "      <td>1</td>\n",
       "      <td>1</td>\n",
       "      <td>1</td>\n",
       "      <td>...</td>\n",
       "      <td>2</td>\n",
       "      <td>2</td>\n",
       "      <td>2</td>\n",
       "      <td>2</td>\n",
       "      <td>2</td>\n",
       "      <td>2</td>\n",
       "      <td>2</td>\n",
       "      <td>2</td>\n",
       "      <td>2</td>\n",
       "      <td>1</td>\n",
       "    </tr>\n",
       "    <tr>\n",
       "      <th>3</th>\n",
       "      <td>2</td>\n",
       "      <td>1</td>\n",
       "      <td>1</td>\n",
       "      <td>1</td>\n",
       "      <td>2</td>\n",
       "      <td>2</td>\n",
       "      <td>2</td>\n",
       "      <td>2</td>\n",
       "      <td>2</td>\n",
       "      <td>1</td>\n",
       "      <td>...</td>\n",
       "      <td>2</td>\n",
       "      <td>2</td>\n",
       "      <td>2</td>\n",
       "      <td>2</td>\n",
       "      <td>2</td>\n",
       "      <td>2</td>\n",
       "      <td>2</td>\n",
       "      <td>2</td>\n",
       "      <td>2</td>\n",
       "      <td>2</td>\n",
       "    </tr>\n",
       "    <tr>\n",
       "      <th>4</th>\n",
       "      <td>1</td>\n",
       "      <td>1</td>\n",
       "      <td>1</td>\n",
       "      <td>2</td>\n",
       "      <td>2</td>\n",
       "      <td>2</td>\n",
       "      <td>2</td>\n",
       "      <td>2</td>\n",
       "      <td>2</td>\n",
       "      <td>2</td>\n",
       "      <td>...</td>\n",
       "      <td>2</td>\n",
       "      <td>2</td>\n",
       "      <td>2</td>\n",
       "      <td>2</td>\n",
       "      <td>2</td>\n",
       "      <td>2</td>\n",
       "      <td>1</td>\n",
       "      <td>2</td>\n",
       "      <td>2</td>\n",
       "      <td>1</td>\n",
       "    </tr>\n",
       "  </tbody>\n",
       "</table>\n",
       "<p>5 rows × 160 columns</p>\n",
       "</div>"
      ],
      "text/plain": [
       "   0    1    2    3    4    5    6    7    8    9    ...  150  151  152  153  \\\n",
       "0    2    1    2    2    2    2    2    2    2    2  ...    2    2    2    2   \n",
       "1    2    2    2    1    2    2    2    2    2    1  ...    2    2    2    2   \n",
       "2    2    1    2    2    1    2    1    1    1    1  ...    2    2    2    2   \n",
       "3    2    1    1    1    2    2    2    2    2    1  ...    2    2    2    2   \n",
       "4    1    1    1    2    2    2    2    2    2    2  ...    2    2    2    2   \n",
       "\n",
       "   154  155  156  157  158  159  \n",
       "0    2    2    2    2    2    1  \n",
       "1    2    2    2    1    1    1  \n",
       "2    2    2    2    2    2    1  \n",
       "3    2    2    2    2    2    2  \n",
       "4    2    2    1    2    2    1  \n",
       "\n",
       "[5 rows x 160 columns]"
      ]
     },
     "execution_count": 6,
     "metadata": {},
     "output_type": "execute_result"
    }
   ],
   "source": [
    "choices = pd.read_csv(\"inst_choices.csv\",header = None)\n",
    "choices.head(5)"
   ]
  },
  {
   "cell_type": "code",
   "execution_count": 7,
   "id": "matched-insider",
   "metadata": {},
   "outputs": [
    {
     "data": {
      "text/plain": [
       "array([2, 2, 2, 1, 2, 2, 2, 2, 2, 1, 2, 1, 2, 2, 2, 2, 1, 1, 1, 1, 2, 1,\n",
       "       1, 2, 2, 1, 1, 1, 1, 2, 1, 2, 1, 2, 2, 2, 2, 2, 2, 2, 1, 2, 1, 2,\n",
       "       2, 2, 2, 2, 2, 2, 1, 1, 2, 2, 2, 2, 2, 2, 2, 2, 2, 2, 2, 2, 2, 2,\n",
       "       2, 1, 2, 2, 2, 2, 2, 2, 2, 2, 2, 1, 2, 2, 2, 2, 2, 2, 2, 2, 2, 2,\n",
       "       2, 2, 2, 2, 2, 1, 2, 1, 1, 1, 1, 1, 1, 1, 1, 1, 2, 1, 2, 2, 2, 2,\n",
       "       2, 2, 2, 2, 1, 2, 1, 1, 2, 2, 2, 2, 2, 2, 2, 2, 2, 2, 2, 2, 2, 2,\n",
       "       2, 2, 2, 2, 2, 2, 2, 2, 2, 2, 2, 2, 2, 2, 1, 1, 2, 2, 2, 2, 2, 2,\n",
       "       2, 2, 2, 1, 1, 1])"
      ]
     },
     "execution_count": 7,
     "metadata": {},
     "output_type": "execute_result"
    }
   ],
   "source": [
    "np.array(choices.iloc[1])"
   ]
  },
  {
   "cell_type": "code",
   "execution_count": 8,
   "id": "sufficient-least",
   "metadata": {},
   "outputs": [
    {
     "name": "stdout",
     "output_type": "stream",
     "text": [
      "   0    1    2    3    4    5    6    7    8    9    ...  150  151  152  153  \\\n",
      "0    0    1    0    0    0    0    0    0    0    0  ...    0    1    1    1   \n",
      "1    0    0    1    1    1    0    0    0    1    1  ...    0    1    0    0   \n",
      "2    1    1    1    1    1    1    0    0    0    1  ...    0    0    0    0   \n",
      "3    0    0    0    1    0    0    1    0    0    0  ...    0    0    0    1   \n",
      "4    0    0    1    0    1    0    1    0    0    0  ...    0    1    0    0   \n",
      "\n",
      "   154  155  156  157  158  159  \n",
      "0    1    0    0    1    1    0  \n",
      "1    0    1    1    1    0    0  \n",
      "2    0    0    1    0    1    1  \n",
      "3    0    0    0    1    0    1  \n",
      "4    1    1    1    0    1    0  \n",
      "\n",
      "[5 rows x 160 columns]\n"
     ]
    }
   ],
   "source": [
    "outcomes = pd.read_csv(\"inst_outcomes.csv\",header = None)\n",
    "print(outcomes.head(5))"
   ]
  },
  {
   "cell_type": "code",
   "execution_count": 9,
   "id": "universal-therapist",
   "metadata": {},
   "outputs": [],
   "source": [
    "chose_A = []\n",
    "large_noise = []\n",
    "for i in range(50):\n",
    "    l = np.array(choices.iloc[i])\n",
    "    chose_A.append(l[l==1].shape[0])\n",
    "    l1 = np.array(outcomes.iloc[i])\n",
    "    large_noise.append(l1[l1==1].shape[0])"
   ]
  },
  {
   "cell_type": "code",
   "execution_count": 10,
   "id": "standing-shield",
   "metadata": {},
   "outputs": [
    {
     "name": "stdout",
     "output_type": "stream",
     "text": [
      "[18.125 25.    34.375  9.375 28.75  22.5   34.375 24.375 18.75  20.625\n",
      " 27.5   16.875 16.875 20.    26.875 24.375  9.375 14.375 30.    30.\n",
      " 17.5   25.625 24.375 15.    38.125 20.625 30.    29.375 23.75  13.75\n",
      " 41.25  25.    21.25  28.75  21.875 31.875 23.125 20.625 40.625 31.25\n",
      " 18.125 16.25  21.25  34.375 14.375 36.25  16.875 17.5   25.625 13.75 ]\n",
      "[29, 40, 55, 15, 46, 36, 55, 39, 30, 33, 44, 27, 27, 32, 43, 39, 15, 23, 48, 48, 28, 41, 39, 24, 61, 33, 48, 47, 38, 22, 66, 40, 34, 46, 35, 51, 37, 33, 65, 50, 29, 26, 34, 55, 23, 58, 27, 28, 41, 22]\n"
     ]
    }
   ],
   "source": [
    "percent_A = np.divide(chose_A,1.6) #divide by 160 and mulitply by 100 \n",
    "print(percent_A)\n",
    "print(chose_A)"
   ]
  },
  {
   "cell_type": "code",
   "execution_count": 11,
   "id": "secondary-contribution",
   "metadata": {},
   "outputs": [
    {
     "name": "stdout",
     "output_type": "stream",
     "text": [
      "[18.125, 25.0, 34.375, 9.375, 28.75, 22.5, 34.375, 24.375, 18.75, 20.625, 27.5, 16.875, 16.875, 20.0, 26.875, 24.375, 9.375, 14.375, 30.0, 30.0, 17.5, 25.625, 24.375, 15.0, 38.125, 20.625, 30.0, 29.375, 23.75, 13.75, 41.25, 25.0, 21.25, 28.75, 21.875, 31.875, 23.125, 20.625, 40.625, 31.25, 18.125, 16.25, 21.25, 34.375, 14.375, 36.25, 16.875, 17.5, 25.625, 13.75]\n"
     ]
    }
   ],
   "source": [
    "print(list(percent_A))"
   ]
  },
  {
   "cell_type": "code",
   "execution_count": 12,
   "id": "closed-tamil",
   "metadata": {},
   "outputs": [],
   "source": [
    "random_person_choices = 1+np.random.randint(2,size = (160,)) \n",
    "random_person_choose_A = random_person_choices[random_person_choices == 1].shape[0]\n",
    "random_person_choose_A_percent = random_person_choose_A *100/160"
   ]
  },
  {
   "cell_type": "code",
   "execution_count": 13,
   "id": "direct-positive",
   "metadata": {},
   "outputs": [
    {
     "name": "stdout",
     "output_type": "stream",
     "text": [
      "[1 2 1 1 2 2 2 1 2 2 2 1 2 2 2 1 2 1 2 1 1 1 1 1 2 2 2 2 1 2 1 1 2 1 1 1 2\n",
      " 1 1 2 1 1 1 2 2 2 1 1 2 2 1 2 1 1 1 1 1 1 2 2 1 1 1 1 1 2 1 1 1 1 2 2 2 2\n",
      " 1 2 2 2 1 1 2 2 1 1 1 1 2 2 2 2 2 2 1 2 1 1 1 1 2 2 2 2 1 1 2 1 2 2 2 2 1\n",
      " 1 1 2 1 1 1 1 1 2 2 1 1 1 2 2 2 1 1 2 1 1 1 1 1 2 2 1 1 1 1 2 2 1 1 1 1 2\n",
      " 2 2 1 2 2 2 1 2 2 1 2 2] 85\n",
      "53.125\n"
     ]
    }
   ],
   "source": [
    "print(random_person_choices,random_person_choose_A)\n",
    "print(random_person_choose_A_percent)"
   ]
  },
  {
   "cell_type": "code",
   "execution_count": 14,
   "id": "female-galaxy",
   "metadata": {},
   "outputs": [
    {
     "name": "stdout",
     "output_type": "stream",
     "text": [
      "[53 66 72 50 66 63 69 72 66 64 67 56 67 56 64 62 57 60 67 74 58 57 57 61\n",
      " 79 57 77 74 64 64 72 72 73 69 65 73 63 66 77 74 57 51 63 73 59 78 63 56\n",
      " 70 55] 50\n"
     ]
    }
   ],
   "source": [
    "print(np.array(large_noise),np.array(large_noise).shape[0])"
   ]
  },
  {
   "cell_type": "code",
   "execution_count": 15,
   "id": "particular-digest",
   "metadata": {},
   "outputs": [],
   "source": [
    "rand = np.random.randint(0,2,size=(160,))"
   ]
  },
  {
   "cell_type": "code",
   "execution_count": 16,
   "id": "destroyed-gambling",
   "metadata": {},
   "outputs": [
    {
     "data": {
      "text/plain": [
       "90"
      ]
     },
     "execution_count": 16,
     "metadata": {},
     "output_type": "execute_result"
    }
   ],
   "source": [
    "rand.sum()"
   ]
  },
  {
   "cell_type": "markdown",
   "id": "driving-consistency",
   "metadata": {},
   "source": [
    "# B"
   ]
  },
  {
   "cell_type": "code",
   "execution_count": 2,
   "id": "attached-baseball",
   "metadata": {},
   "outputs": [],
   "source": [
    "def simulate(alpha,beta):\n",
    "    #alpha ,beta = 0.3,8 \n",
    "    V0 ,t = 0.5,160\n",
    "    v_a,v_b = np.zeros([t+1]),np.zeros([t+1])\n",
    "    v_a[0],v_b[0]=V0,V0\n",
    "    rp=[0.6,0.8,0.6,0.65]\n",
    "    list_choices,list_outcomes = [],[]\n",
    "    for i in range(0,t):\n",
    "        if(i%40 == 0):\n",
    "            r = rp[i//40] #probability that a produces loud noise\n",
    "        p_choose_a = np.e**(-1*beta*v_a[i])/(np.e**(-1*beta*v_a[i])+np.e**(-1*beta*v_b[i]))\n",
    "        p_choose_b = np.e**(-1*beta*v_b[i])/(np.e**(-1*beta*v_a[i])+np.e**(-1*beta*v_b[i]))\n",
    "        c = 1+ (p_choose_b > np.random.rand()) #1 if a is chosen 2 if b is chosen\n",
    "        if(c == 1): #stimulus A is chosen\n",
    "            outcome = 0 + (r > np.random.rand())\n",
    "            v_a[i+1] = v_a[i] + alpha*(outcome-v_a[i])\n",
    "            v_b[i+1] = v_b[i]\n",
    "        elif(c == 2): #stimulus B is chosen\n",
    "            outcome = 0 + ((1-r) > np.random.rand()) \n",
    "            v_b[i+1] = v_b[i] + alpha*(outcome-v_b[i])\n",
    "            v_a[i+1] = v_a[i]\n",
    "        list_choices.append(c)\n",
    "        list_outcomes.append(outcome)\n",
    "    return v_a,v_b,list_choices,list_outcomes"
   ]
  },
  {
   "cell_type": "code",
   "execution_count": 3,
   "id": "favorite-compromise",
   "metadata": {},
   "outputs": [],
   "source": [
    "def plot(v_a,v_b):\n",
    "    trials = list(range(0,161))\n",
    "    v_ab = [v_a[i]-v_b[i] for i in range(161)]\n",
    "    fig, axs = plt.subplots(2,1,tight_layout = True,figsize= (6,6))\n",
    "    axs[0].plot(trials,v_a,color = 'red',label = 'v_a')\n",
    "    axs[0].plot(trials,v_b,color = 'blue',label = 'v_b')\n",
    "    axs[0].set_xlabel(\"Trials\")\n",
    "    axs[0].set_ylabel(\"values\")\n",
    "    axs[0].set_title(\"evolution of V_A and V_B\")\n",
    "    axs[0].grid()\n",
    "    axs[0].legend()\n",
    "    axs[1].plot(trials,v_ab)\n",
    "    axs[1].set_xlabel(\"Trails\")\n",
    "    axs[1].set_ylabel(\"values\")\n",
    "    axs[1].set_title(\"Difference in V_A and V_B\")\n",
    "    axs[1].grid()\n",
    "    plt.savefig(\"q2.pdf\")\n",
    "    plt.show()"
   ]
  },
  {
   "cell_type": "code",
   "execution_count": 4,
   "id": "manual-biology",
   "metadata": {},
   "outputs": [],
   "source": [
    "def various_simulations(count,alpha,beta):\n",
    "    new_va,new_vb,no_of_loud = [],[],[]\n",
    "    for i in range(count):\n",
    "        v_a,v_b,choices,outcomes = simulate(alpha,beta)\n",
    "        x = np.array(outcomes)\n",
    "        no_of_loud.append((x==1).sum())\n",
    "        new_va.append(np.array(v_a))\n",
    "        new_vb.append(np.array(v_b))\n",
    "    final_va ,final_vb, loud_noises = np.array(new_va),np.array(new_vb),np.array(no_of_loud)\n",
    "    avg_va,avg_vb = np.mean(final_va,axis = 0),np.mean(final_vb,axis = 0)\n",
    "    print(final_va.shape,final_vb.shape)\n",
    "    print(avg_va.shape)\n",
    "    print(np.mean(loud_noises))\n",
    "    plot(avg_va,avg_vb)"
   ]
  },
  {
   "cell_type": "code",
   "execution_count": 20,
   "id": "closed-coaching",
   "metadata": {
    "scrolled": true
   },
   "outputs": [
    {
     "name": "stdout",
     "output_type": "stream",
     "text": [
      "(60, 161) (60, 161)\n",
      "(161,)\n",
      "59.95\n"
     ]
    },
    {
     "data": {
      "image/png": "[encoded data removed]",
      "text/plain": [
       "<Figure size 432x432 with 2 Axes>"
      ]
     },
     "metadata": {
      "needs_background": "light"
     },
     "output_type": "display_data"
    }
   ],
   "source": [
    "alpha,beta = 0.3, 8\n",
    "various_simulations(60,alpha,beta)"
   ]
  },
  {
   "cell_type": "markdown",
   "id": "smoking-hacker",
   "metadata": {},
   "source": [
    "# C"
   ]
  },
  {
   "cell_type": "code",
   "execution_count": 5,
   "id": "exceptional-limit",
   "metadata": {},
   "outputs": [],
   "source": [
    "def plot1(alpha,beta,noises):\n",
    "    print(alpha,beta,noises)\n",
    "    fig, axs = plt.subplots(figsize=(8,5)) \n",
    "    axs.plot(alpha,beta,'ro')\n",
    "    ax2=axs.twinx()\n",
    "    ax2.plot(alpha,noises,'bo')\n",
    "    plt.show()"
   ]
  },
  {
   "cell_type": "code",
   "execution_count": 6,
   "id": "surprised-layout",
   "metadata": {},
   "outputs": [],
   "source": [
    "def various_simulations_c(count,alpha,beta):\n",
    "    new_va,new_vb,no_of_loud = [],[],[]\n",
    "    for i in range(count):\n",
    "        v_a,v_b,choices,outcomes = simulate(alpha,beta)\n",
    "        x = np.array(outcomes)\n",
    "        no_of_loud.append((x==1).sum())\n",
    "        new_va.append(np.array(v_a))\n",
    "        new_vb.append(np.array(v_b))\n",
    "    final_va ,final_vb, loud_noises = np.array(new_va),np.array(new_vb),np.array(no_of_loud)\n",
    "    #print(np.mean(loud_noises))\n",
    "    #plot1(alpha,beta,np.mean(loud_noises))\n",
    "    return round(np.mean(loud_noises))"
   ]
  },
  {
   "cell_type": "code",
   "execution_count": 7,
   "id": "chronic-shipping",
   "metadata": {},
   "outputs": [],
   "source": [
    "#fig, axs = plt.subplots(figsize=(8,5)) \n",
    "#noises = []\n",
    "##for alpha in range(1,10):\n",
    " #   val = various_simulations_c(60,alpha/10,1)\n",
    "  #  print()\n",
    "alpha = [0.1,0.5,1.0]\n",
    "beta = [1,5,10]"
   ]
  },
  {
   "cell_type": "code",
   "execution_count": 15,
   "id": "qualified-bulgarian",
   "metadata": {},
   "outputs": [
    {
     "name": "stdout",
     "output_type": "stream",
     "text": [
      "0.1 1 76\n",
      "0.5 1 75\n",
      "1.0 1 75\n",
      "0.1 5 63\n",
      "0.5 5 65\n",
      "1.0 5 70\n",
      "0.1 10 60\n",
      "0.5 10 63\n",
      "1.0 10 68\n",
      "[60, 59, 68]\n"
     ]
    }
   ],
   "source": [
    "from matplotlib import pyplot as plt\n",
    "for be in beta:\n",
    "    for al in alpha:\n",
    "        print(al,be,various_simulations_c(70,al,be))\n",
    "print(noises)"
   ]
  },
  {
   "cell_type": "code",
   "execution_count": 22,
   "id": "accepting-cinema",
   "metadata": {},
   "outputs": [
    {
     "data": {
      "image/png": "[encoded data removed]",
      "text/plain": [
       "<Figure size 432x288 with 1 Axes>"
      ]
     },
     "metadata": {
      "needs_background": "light"
     },
     "output_type": "display_data"
    }
   ],
   "source": [
    "for beta in range(1,7):\n",
    "    noises,list_alpha = [],[]\n",
    "    for alpha in range(1,10):\n",
    "        list_alpha.append(alpha/10);\n",
    "        noises.append(various_simulations_c(70,alpha/10,beta))    \n",
    "    plt.plot(list_alpha,noises,label = \"beta = {}\".format(beta))\n",
    "#plt.figure(figsize=(8,8))\n",
    "plt.xlabel(\"alpha\")\n",
    "plt.ylabel(\"avg aversive noise count\")\n",
    "plt.grid()\n",
    "plt.legend()\n",
    "plt.ylim(60,80)\n",
    "#plt.savefig(\"c_1.pgf\")\n",
    "plt.show()"
   ]
  },
  {
   "cell_type": "code",
   "execution_count": 26,
   "id": "dying-reading",
   "metadata": {},
   "outputs": [
    {
     "data": {
      "image/png": "[encoded data removed]",
      "text/plain": [
       "<Figure size 432x288 with 1 Axes>"
      ]
     },
     "metadata": {
      "needs_background": "light"
     },
     "output_type": "display_data"
    }
   ],
   "source": [
    "for beta in range(6,11):\n",
    "    noises,list_alpha = [],[]\n",
    "    for alpha in range(1,10):\n",
    "        list_alpha.append(alpha/10);\n",
    "        noises.append(various_simulations_c(70,alpha/10,beta))    \n",
    "    plt.plot(list_alpha,noises,label = \"beta = {}\".format(beta))\n",
    "#plt.figure(figsize=(8,8))\n",
    "plt.xlabel(\"alpha\")\n",
    "plt.ylabel(\"avg aversive noise count\")\n",
    "plt.grid()\n",
    "plt.legend()\n",
    "plt.ylim(50,70)\n",
    "#plt.savefig(\"c_1.pgf\")\n",
    "plt.show()"
   ]
  },
  {
   "cell_type": "code",
   "execution_count": 23,
   "id": "normal-violation",
   "metadata": {},
   "outputs": [
    {
     "data": {
      "image/png": "[encoded data removed]",
      "text/plain": [
       "<Figure size 1152x216 with 5 Axes>"
      ]
     },
     "metadata": {
      "needs_background": "light"
     },
     "output_type": "display_data"
    }
   ],
   "source": [
    "fig,axs = plt.subplots(1,5,tight_layout = True,figsize= (16,3))\n",
    "for beta in range(1,6):\n",
    "    noises,list_alpha = [],[]\n",
    "    for alpha in range(1,10):\n",
    "        list_alpha.append(alpha/10);\n",
    "        noises.append(various_simulations_c(70,alpha/10,beta))    \n",
    "    axs[beta-1].plot(list_alpha,noises,label = \"beta = {}\".format(beta))\n",
    "    axs[beta-1].set_xlabel(\"alpha\")\n",
    "    axs[beta-1].set_ylabel(\"avg aversive noise count\")\n",
    "    axs[beta-1].grid()\n",
    "    axs[beta-1].legend()\n",
    "plt.ylim(60,80)\n",
    "#plt.savefig(\"c_1.pgf\")\n",
    "plt.show()"
   ]
  },
  {
   "cell_type": "code",
   "execution_count": 24,
   "id": "rental-buyer",
   "metadata": {},
   "outputs": [
    {
     "data": {
      "image/png": "[encoded data removed]",
      "text/plain": [
       "<Figure size 1152x216 with 5 Axes>"
      ]
     },
     "metadata": {
      "needs_background": "light"
     },
     "output_type": "display_data"
    }
   ],
   "source": [
    "fig,axs = plt.subplots(1,5,tight_layout = True,figsize= (16,3))\n",
    "for beta in range(6,11):\n",
    "    noises,list_alpha = [],[]\n",
    "    for alpha in range(1,10):\n",
    "        list_alpha.append(alpha/10);\n",
    "        noises.append(various_simulations_c(70,alpha/10,beta))    \n",
    "    axs[beta-6].plot(list_alpha,noises,label = \"beta = {}\".format(beta))\n",
    "    axs[beta-6].grid()\n",
    "    axs[beta-6].legend()\n",
    "    axs[beta-6].set_xlabel(\"alpha\")\n",
    "    axs[beta-6].set_ylabel(\"avg aversive noise count\")\n",
    "plt.ylim(50,70)\n",
    "#plt.savefig(\"c_2.pdf\")\n",
    "plt.show()"
   ]
  },
  {
   "cell_type": "code",
   "execution_count": 25,
   "id": "arabic-vector",
   "metadata": {},
   "outputs": [
    {
     "name": "stdout",
     "output_type": "stream",
     "text": [
      "[64, 65, 65, 66, 66, 67, 69, 67, 69]\n"
     ]
    }
   ],
   "source": [
    "noises = []\n",
    "for alpha in range(1,10):\n",
    "    noises.append(various_simulations_c(50,alpha/10,4))\n",
    "print(noises)"
   ]
  },
  {
   "cell_type": "code",
   "execution_count": 26,
   "id": "marked-debut",
   "metadata": {},
   "outputs": [
    {
     "name": "stdout",
     "output_type": "stream",
     "text": [
      "[68, 69, 68, 67, 68, 68, 68, 69, 70]\n"
     ]
    }
   ],
   "source": [
    "noises = []\n",
    "for alpha in range(1,10):\n",
    "    noises.append(various_simulations_c(50,alpha/10,3))\n",
    "print(noises)"
   ]
  },
  {
   "cell_type": "markdown",
   "id": "fabulous-particular",
   "metadata": {},
   "source": [
    "# D"
   ]
  },
  {
   "cell_type": "code",
   "execution_count": 27,
   "id": "manufactured-ocean",
   "metadata": {},
   "outputs": [],
   "source": [
    "def nll(alpha,beta,choices,outcomes):\n",
    "    choice_probabilities = []\n",
    "    t = choices.shape[0]\n",
    "    v_a,v_b = np.zeros([t+1]),np.zeros([t+1])\n",
    "    V0=0.5\n",
    "    #v_a[0],v_b[0]=V0,V0\n",
    "    v_a,v_b = 0.5,0.5\n",
    "    for i in range(0,t):\n",
    "        c = choices[i]\n",
    "        #c_alt = 1 + (c==1)\n",
    "        if c== 1:\n",
    "            p_choose_c = np.e**(-1*beta*v_a)/(np.e**(-1*beta*v_a)+np.e**(-1*beta*v_b))\n",
    "            v_a = v_a + alpha*(outcomes[i]-v_a)\n",
    "            choice_probabilities.append(p_choose_c)\n",
    "        elif c==2:\n",
    "            p_choose_c = np.e**(-1*beta*v_b)/(np.e**(-1*beta*v_a)+np.e**(-1*beta*v_b))\n",
    "            v_b = v_b+ alpha*(outcomes[i]-v_b)\n",
    "            choice_probabilities.append(p_choose_c)\n",
    "    #print(choice_probabilities,len(choice_probabilities))\n",
    "    #calculate negative log\n",
    "    sum = 0;\n",
    "    for i in choice_probabilities:\n",
    "        x = np.log(i)\n",
    "        sum = sum +x\n",
    "    sum = sum*-1\n",
    "    #print(sum)\n",
    "    return sum"
   ]
  },
  {
   "cell_type": "code",
   "execution_count": 28,
   "id": "outer-theater",
   "metadata": {},
   "outputs": [
    {
     "data": {
      "text/plain": [
       "64.24159844691494"
      ]
     },
     "execution_count": 28,
     "metadata": {},
     "output_type": "execute_result"
    }
   ],
   "source": [
    "choices_second_participant = np.array(choices.iloc[1])\n",
    "outcomes_second_participant = np.array(outcomes.iloc[1])\n",
    "alpha = 0.3\n",
    "beta = 8\n",
    "nll(alpha,beta,choices_second_participant,outcomes_second_participant)"
   ]
  },
  {
   "cell_type": "code",
   "execution_count": 29,
   "id": "dirty-tourism",
   "metadata": {},
   "outputs": [
    {
     "name": "stdout",
     "output_type": "stream",
     "text": [
      "50.19065076029973\n"
     ]
    }
   ],
   "source": [
    "#nll for participant 1\n",
    "choices_1 = np.array(choices.iloc[0])\n",
    "outcomes_1 = np.array(outcomes.iloc[0])\n",
    "alpha ,beta = 0.3,8\n",
    "ans = nll(alpha,beta,choices_1,outcomes_1)\n",
    "print(ans)"
   ]
  },
  {
   "cell_type": "code",
   "execution_count": 30,
   "id": "unusual-seattle",
   "metadata": {},
   "outputs": [
    {
     "name": "stdout",
     "output_type": "stream",
     "text": [
      "58.6026080721737\n"
     ]
    }
   ],
   "source": [
    "#nll for participant 10\n",
    "choices_10 = np.array(choices.iloc[9])\n",
    "outcomes_10 = np.array(outcomes.iloc[9])\n",
    "alpha ,beta = 0.3,8\n",
    "ans = nll(alpha,beta,choices_10,outcomes_10)\n",
    "print(ans)"
   ]
  },
  {
   "cell_type": "markdown",
   "id": "expected-consultation",
   "metadata": {},
   "source": [
    "# E"
   ]
  },
  {
   "cell_type": "code",
   "execution_count": 31,
   "id": "received-scholar",
   "metadata": {},
   "outputs": [],
   "source": [
    "from scipy.optimize import minimize\n",
    "from scipy.stats import pearsonr"
   ]
  },
  {
   "cell_type": "code",
   "execution_count": 32,
   "id": "continuing-tournament",
   "metadata": {},
   "outputs": [],
   "source": [
    "final_results = []\n",
    "for i in range(50):\n",
    "    a,b = np.array(choices.iloc[i]),np.array(outcomes.iloc[i])\n",
    "    foo2 = lambda P: nll(P[0], P[1], a, b)\n",
    "    initial_guess = (0.3,8)\n",
    "    results = minimize(foo2,x0 = initial_guess, method='Nelder-Mead')\n",
    "    final_results.append(results.x)"
   ]
  },
  {
   "cell_type": "code",
   "execution_count": 33,
   "id": "legal-coach",
   "metadata": {},
   "outputs": [
    {
     "name": "stdout",
     "output_type": "stream",
     "text": [
      "[0.35981238 4.50528065]\n"
     ]
    }
   ],
   "source": [
    "print(results.x)"
   ]
  },
  {
   "cell_type": "code",
   "execution_count": 43,
   "id": "structured-receptor",
   "metadata": {},
   "outputs": [],
   "source": [
    "a = np.array(final_results)"
   ]
  },
  {
   "cell_type": "code",
   "execution_count": 44,
   "id": "corrected-selection",
   "metadata": {},
   "outputs": [
    {
     "data": {
      "text/plain": [
       "0.6381043328216796"
      ]
     },
     "execution_count": 44,
     "metadata": {},
     "output_type": "execute_result"
    }
   ],
   "source": [
    "final_results[2][0]"
   ]
  },
  {
   "cell_type": "code",
   "execution_count": 34,
   "id": "matched-blond",
   "metadata": {},
   "outputs": [],
   "source": [
    "alphas = [final_results[i][0] for i in range(50)]"
   ]
  },
  {
   "cell_type": "code",
   "execution_count": 35,
   "id": "peripheral-musician",
   "metadata": {},
   "outputs": [],
   "source": [
    "betas = [final_results[i][1] for i in range(50)]"
   ]
  },
  {
   "cell_type": "code",
   "execution_count": 36,
   "id": "distinct-bedroom",
   "metadata": {},
   "outputs": [],
   "source": [
    "alphas_under_25 = alphas[0:25]\n",
    "alphas_over_25 = alphas[25:]\n",
    "betas_under_25 = betas[0:25]\n",
    "betas_over_25 = betas[25:]"
   ]
  },
  {
   "cell_type": "code",
   "execution_count": 37,
   "id": "documentary-finance",
   "metadata": {},
   "outputs": [
    {
     "name": "stdout",
     "output_type": "stream",
     "text": [
      "0.47166714237896706 6.029153890216288\n"
     ]
    }
   ],
   "source": [
    "mean_alpha_group1 = np.mean(np.array(alphas_under_25))\n",
    "mean_beta_group1 = np.mean(np.array(betas_under_25))\n",
    "\n",
    "print(mean_alpha_group1,mean_beta_group1)"
   ]
  },
  {
   "cell_type": "code",
   "execution_count": 38,
   "id": "improving-edinburgh",
   "metadata": {},
   "outputs": [
    {
     "name": "stdout",
     "output_type": "stream",
     "text": [
      "0.37581976829829405 4.528773329297205\n"
     ]
    }
   ],
   "source": [
    "mean_alpha_group2 = np.mean(np.array(alphas_over_25))\n",
    "mean_beta_group2 = np.mean(np.array(betas_over_25))\n",
    "print(mean_alpha_group2,mean_beta_group2)"
   ]
  },
  {
   "cell_type": "code",
   "execution_count": 39,
   "id": "negative-messaging",
   "metadata": {},
   "outputs": [
    {
     "name": "stdout",
     "output_type": "stream",
     "text": [
      "0.42374345533863056 5.2789636097567465\n"
     ]
    }
   ],
   "source": [
    "mean_alpha = np.mean(np.array(alphas))\n",
    "mean_beta = np.mean(np.array(betas))\n",
    "print(mean_alpha,mean_beta)"
   ]
  },
  {
   "cell_type": "code",
   "execution_count": 40,
   "id": "interracial-latex",
   "metadata": {},
   "outputs": [
    {
     "name": "stdout",
     "output_type": "stream",
     "text": [
      "0.014278285594727623\n",
      "3.0381890388988757\n"
     ]
    }
   ],
   "source": [
    "print(np.var(np.array(alphas)))\n",
    "print(np.var(np.array(betas)))"
   ]
  },
  {
   "cell_type": "code",
   "execution_count": 41,
   "id": "accepted-acting",
   "metadata": {},
   "outputs": [
    {
     "data": {
      "image/png": "[encoded data removed]",
      "text/plain": [
       "<Figure size 576x432 with 2 Axes>"
      ]
     },
     "metadata": {
      "needs_background": "light"
     },
     "output_type": "display_data"
    }
   ],
   "source": [
    "subjects = list(range(0,50))\n",
    "fig,ax = plt.subplots(2,1,tight_layout=True,figsize = (8,6))\n",
    "ax[0].plot(subjects,alphas,color = 'red')\n",
    "ax[1].plot(subjects,betas,color = 'blue')\n",
    "ax[0].grid()\n",
    "ax[0].set_xlabel(\"participants\")\n",
    "ax[0].set_ylabel(\"learning rate\")\n",
    "ax[0].set_title(\"optimized values of learning rate for all the participants\")\n",
    "ax[1].grid()\n",
    "ax[1].set_xlabel(\"participants\")\n",
    "ax[1].set_ylabel(\"Inverse temperature\")\n",
    "ax[1].set_title(\"optimized values of inverse temperature for all the participants\")\n",
    "plt.savefig(\"qe.pdf\")\n",
    "plt.show()"
   ]
  },
  {
   "cell_type": "code",
   "execution_count": 42,
   "id": "instrumental-evening",
   "metadata": {},
   "outputs": [
    {
     "name": "stdout",
     "output_type": "stream",
     "text": [
      "[[1.         0.07219201]\n",
      " [0.07219201 1.        ]]\n"
     ]
    }
   ],
   "source": [
    "corr_whole = np.corrcoef(alphas,betas)\n",
    "print(corr_whole)"
   ]
  },
  {
   "cell_type": "code",
   "execution_count": 43,
   "id": "through-watershed",
   "metadata": {},
   "outputs": [
    {
     "data": {
      "text/plain": [
       "(0.07219200521010426, 0.6183331439908794)"
      ]
     },
     "execution_count": 43,
     "metadata": {},
     "output_type": "execute_result"
    }
   ],
   "source": [
    "pearsonr(alphas,betas)"
   ]
  },
  {
   "cell_type": "code",
   "execution_count": 54,
   "id": "suffering-flood",
   "metadata": {},
   "outputs": [],
   "source": [
    "corr_group1 = np.corrcoef(alphas_under_25,betas_under_25)\n",
    "corr_group2 = np.corrcoef(alphas_over_25,betas_over_25)"
   ]
  },
  {
   "cell_type": "code",
   "execution_count": 55,
   "id": "missing-camel",
   "metadata": {},
   "outputs": [
    {
     "name": "stdout",
     "output_type": "stream",
     "text": [
      "-0.13327926387630956 -0.10274632925287817\n"
     ]
    }
   ],
   "source": [
    "print(corr_group1[0][1],corr_group2[0][1])"
   ]
  },
  {
   "cell_type": "code",
   "execution_count": 56,
   "id": "timely-offense",
   "metadata": {},
   "outputs": [
    {
     "data": {
      "image/png": "[encoded data removed]",
      "text/plain": [
       "<Figure size 432x288 with 1 Axes>"
      ]
     },
     "metadata": {
      "needs_background": "light"
     },
     "output_type": "display_data"
    }
   ],
   "source": [
    "plt.plot(alphas_under_25,betas_under_25,'ro')\n",
    "plt.show()"
   ]
  },
  {
   "cell_type": "markdown",
   "id": "substantial-statement",
   "metadata": {},
   "source": [
    "# F"
   ]
  },
  {
   "cell_type": "code",
   "execution_count": 44,
   "id": "portable-portable",
   "metadata": {},
   "outputs": [],
   "source": [
    "from scipy import stats"
   ]
  },
  {
   "cell_type": "code",
   "execution_count": 45,
   "id": "missing-census",
   "metadata": {},
   "outputs": [
    {
     "data": {
      "text/plain": [
       "Ttest_indResult(statistic=-19.452770157365475, pvalue=8.0278159564312545e-25)"
      ]
     },
     "execution_count": 45,
     "metadata": {},
     "output_type": "execute_result"
    }
   ],
   "source": [
    "stats.ttest_ind(alphas,betas,equal_var = False)"
   ]
  },
  {
   "cell_type": "code",
   "execution_count": 46,
   "id": "turkish-dictionary",
   "metadata": {},
   "outputs": [
    {
     "name": "stdout",
     "output_type": "stream",
     "text": [
      "Ttest_indResult(statistic=-15.583031794458634, pvalue=3.95232974895427e-14)\n",
      "Ttest_indResult(statistic=-14.674463409213017, pvalue=1.479424830525398e-13)\n"
     ]
    }
   ],
   "source": [
    "print(stats.ttest_ind(alphas_under_25,betas_under_25,equal_var = False))\n",
    "print(stats.ttest_ind(alphas_over_25,betas_over_25,equal_var = False))"
   ]
  },
  {
   "cell_type": "code",
   "execution_count": 47,
   "id": "quick-moses",
   "metadata": {},
   "outputs": [
    {
     "name": "stdout",
     "output_type": "stream",
     "text": [
      "Ttest_indResult(statistic=3.033285774110115, pvalue=0.003895945806852473)\n"
     ]
    }
   ],
   "source": [
    "print(stats.ttest_ind(alphas_under_25,alphas_over_25,equal_var = True))"
   ]
  },
  {
   "cell_type": "code",
   "execution_count": 48,
   "id": "controlled-turtle",
   "metadata": {},
   "outputs": [
    {
     "name": "stdout",
     "output_type": "stream",
     "text": [
      "Ttest_indResult(statistic=3.033285774110115, pvalue=0.0019479729034262365)\n"
     ]
    }
   ],
   "source": [
    "print(stats.ttest_ind(alphas_under_25,alphas_over_25,alternative = 'greater',equal_var = True))"
   ]
  },
  {
   "cell_type": "code",
   "execution_count": 49,
   "id": "broken-blake",
   "metadata": {},
   "outputs": [
    {
     "name": "stdout",
     "output_type": "stream",
     "text": [
      "Ttest_indResult(statistic=-3.033285774110115, pvalue=0.9980520270965737)\n"
     ]
    }
   ],
   "source": [
    "print(stats.ttest_ind(alphas_over_25,alphas_under_25,alternative = 'greater',equal_var = True))"
   ]
  },
  {
   "cell_type": "code",
   "execution_count": 50,
   "id": "adaptive-cooling",
   "metadata": {},
   "outputs": [
    {
     "name": "stdout",
     "output_type": "stream",
     "text": [
      "Ttest_indResult(statistic=3.303459937159372, pvalue=0.0018098393867659337)\n"
     ]
    }
   ],
   "source": [
    "print(stats.ttest_ind(betas_under_25,betas_over_25,equal_var = True))"
   ]
  },
  {
   "cell_type": "markdown",
   "id": "greatest-nutrition",
   "metadata": {},
   "source": [
    "# G"
   ]
  },
  {
   "cell_type": "code",
   "execution_count": 77,
   "id": "numerical-painting",
   "metadata": {},
   "outputs": [],
   "source": [
    "s=80"
   ]
  },
  {
   "cell_type": "code",
   "execution_count": 65,
   "id": "paperback-tuition",
   "metadata": {},
   "outputs": [],
   "source": [
    "#s = 50\n",
    "from scipy.stats import multivariate_normal\n",
    "def sample_al_be():\n",
    "    mean = [0.5,5]\n",
    "    covariance = [[0.01,0],[0,0.5]]\n",
    "    #y = multivariate_normal.pdf(x, mean=2.5, cov=0.5)\n",
    "    sampled_alpha,sampled_beta = np.random.multivariate_normal(mean,covariance,size = s).T\n",
    "    return sampled_alpha,sampled_beta"
   ]
  },
  {
   "cell_type": "code",
   "execution_count": 66,
   "id": "african-carroll",
   "metadata": {},
   "outputs": [
    {
     "name": "stdout",
     "output_type": "stream",
     "text": [
      "[0.43830061 0.37660145 0.55366276 0.40400034 0.43561591 0.58362879\n",
      " 0.51097007 0.41852014 0.561333   0.32268207 0.56357844 0.45673333\n",
      " 0.30730951 0.54638651 0.52505337 0.26591312 0.37645396 0.44927533\n",
      " 0.69874169 0.40430412 0.67494033 0.57933231 0.3895579  0.46576558\n",
      " 0.49073977 0.53505584 0.36612523 0.39900744 0.46301854 0.66002153\n",
      " 0.52517697 0.65902233 0.71996735 0.42207059 0.54260475 0.62903721\n",
      " 0.50265471 0.40331574 0.52615808 0.44051256 0.54165578 0.56545143\n",
      " 0.5382759  0.44955119 0.33722882 0.3078835  0.58496718 0.7086466\n",
      " 0.6209833  0.62280481]\n",
      "[5.06567492 6.04513408 5.46379546 4.87923228 4.51179678 4.87719473\n",
      " 6.55970618 4.41048262 6.01064217 5.19535806 4.9795785  4.71141984\n",
      " 5.22177342 5.14262553 5.90435032 5.74687777 5.9299565  4.13663504\n",
      " 5.45029221 3.9111413  5.21481367 6.27684558 4.91391496 4.64327578\n",
      " 4.56637593 5.04682475 4.50150348 5.47845982 4.9916928  4.54365431\n",
      " 5.14129817 5.19506313 4.3922541  6.0762189  5.09892317 5.63859772\n",
      " 6.25563268 4.9126976  5.7139169  5.37600382 4.84616849 5.08455775\n",
      " 4.95015862 5.15731531 4.95620443 6.1920409  5.47382701 4.9955727\n",
      " 4.92289296 4.60556041]\n"
     ]
    }
   ],
   "source": [
    "sampled_alpha,sampled_beta = sample_al_be()\n",
    "print(sampled_alpha)\n",
    "print(sampled_beta)"
   ]
  },
  {
   "cell_type": "code",
   "execution_count": 67,
   "id": "liquid-projection",
   "metadata": {},
   "outputs": [
    {
     "data": {
      "image/png": "[encoded data removed]",
      "text/plain": [
       "<Figure size 432x288 with 1 Axes>"
      ]
     },
     "metadata": {
      "needs_background": "light"
     },
     "output_type": "display_data"
    }
   ],
   "source": [
    "plt.plot(sampled_alpha,sampled_beta,'bo')\n",
    "plt.xlabel(\"learning rate\")\n",
    "plt.ylabel(\"inverse temperature\")\n",
    "plt.grid()\n",
    "plt.savefig(\"qg.pdf\")\n",
    "plt.show()"
   ]
  },
  {
   "cell_type": "code",
   "execution_count": 68,
   "id": "textile-jungle",
   "metadata": {},
   "outputs": [],
   "source": [
    "def new_simulate_g(sampled_alpha,sampled_beta):\n",
    "    new_choices,new_outcomes = [],[]\n",
    "    for i in range(s):\n",
    "        #print(sampled_alpha[i],sampled_beta[i])\n",
    "        a,b,ch,ou = simulate(sampled_alpha[i],sampled_beta[i])\n",
    "        new_choices.append(ch)\n",
    "        new_outcomes.append(ou)\n",
    "    return new_choices,new_outcomes"
   ]
  },
  {
   "cell_type": "code",
   "execution_count": 69,
   "id": "placed-municipality",
   "metadata": {},
   "outputs": [],
   "source": [
    "new_choices,new_outcomes = new_simulate_g(sampled_alpha,sampled_beta)"
   ]
  },
  {
   "cell_type": "code",
   "execution_count": 70,
   "id": "special-discipline",
   "metadata": {},
   "outputs": [],
   "source": [
    "#print(new_choices)\n",
    "#print(new_outcomes)"
   ]
  },
  {
   "cell_type": "code",
   "execution_count": 71,
   "id": "boring-treasurer",
   "metadata": {},
   "outputs": [],
   "source": [
    "from scipy.optimize import minimize\n",
    "#from scipy.stats import pearsonr\n",
    "def optimiz(new_choices,new_outcomes):\n",
    "    final_results = []\n",
    "    for i in range(s):\n",
    "        a,b = np.array(new_choices[i]),np.array(new_outcomes[i])\n",
    "        #print(a,b)\n",
    "        foo3 = lambda P: nll(P[0], P[1], a, b)\n",
    "        initial_guess = (0.3,8)\n",
    "        results = minimize(foo3,x0 = initial_guess, method='Nelder-Mead')\n",
    "        final_results.append(results.x)\n",
    "    fit_alpha = [final_results[i][0] for i in range(s)]\n",
    "    fit_beta = [final_results[i][1] for i in range(s)]\n",
    "    return fit_alpha,fit_beta"
   ]
  },
  {
   "cell_type": "code",
   "execution_count": 72,
   "id": "standard-services",
   "metadata": {},
   "outputs": [],
   "source": [
    "alphas_g,beta_g = optimiz(new_choices,new_outcomes)"
   ]
  },
  {
   "cell_type": "code",
   "execution_count": 68,
   "id": "tough-lawsuit",
   "metadata": {},
   "outputs": [
    {
     "data": {
      "text/plain": [
       "0"
      ]
     },
     "execution_count": 68,
     "metadata": {},
     "output_type": "execute_result"
    }
   ],
   "source": [
    "(np.array(alphas_g)>1).sum()"
   ]
  },
  {
   "cell_type": "code",
   "execution_count": 69,
   "id": "according-geography",
   "metadata": {},
   "outputs": [
    {
     "data": {
      "text/plain": [
       "0"
      ]
     },
     "execution_count": 69,
     "metadata": {},
     "output_type": "execute_result"
    }
   ],
   "source": [
    "(np.array(beta_g)<1).sum()"
   ]
  },
  {
   "cell_type": "code",
   "execution_count": 73,
   "id": "rough-xerox",
   "metadata": {},
   "outputs": [
    {
     "name": "stdout",
     "output_type": "stream",
     "text": [
      "[[1.         0.79231792]\n",
      " [0.79231792 1.        ]]\n"
     ]
    }
   ],
   "source": [
    "p_alpha = np.corrcoef(sampled_alpha,alphas_g)\n",
    "print(p_alpha)"
   ]
  },
  {
   "cell_type": "code",
   "execution_count": 74,
   "id": "ultimate-entry",
   "metadata": {},
   "outputs": [
    {
     "name": "stdout",
     "output_type": "stream",
     "text": [
      "[[1.         0.51280954]\n",
      " [0.51280954 1.        ]]\n"
     ]
    }
   ],
   "source": [
    "p_beta = np.corrcoef(sampled_beta,beta_g)\n",
    "print(p_beta)"
   ]
  },
  {
   "cell_type": "code",
   "execution_count": 75,
   "id": "seven-spine",
   "metadata": {},
   "outputs": [
    {
     "data": {
      "image/png": "[encoded data removed]",
      "text/plain": [
       "<Figure size 432x288 with 1 Axes>"
      ]
     },
     "metadata": {
      "needs_background": "light"
     },
     "output_type": "display_data"
    }
   ],
   "source": [
    "plt.plot(sampled_alpha,alphas_g,'ro')\n",
    "plt.xlabel(\"sampled alpha values\")\n",
    "plt.ylabel(\"fitted alpha values\")\n",
    "plt.grid()\n",
    "#plt.savefig(\"qg1.pdf\")\n",
    "plt.show()"
   ]
  },
  {
   "cell_type": "code",
   "execution_count": 76,
   "id": "crazy-norfolk",
   "metadata": {},
   "outputs": [
    {
     "data": {
      "image/png": "[encoded data removed]",
      "text/plain": [
       "<Figure size 432x288 with 1 Axes>"
      ]
     },
     "metadata": {
      "needs_background": "light"
     },
     "output_type": "display_data"
    }
   ],
   "source": [
    "plt.plot(sampled_beta,beta_g,'bo')\n",
    "plt.xlabel(\"sampled beta values\")\n",
    "plt.ylabel(\"fitted beta values\")\n",
    "plt.grid()\n",
    "#plt.savefig(\"qg2.pdf\")\n",
    "plt.show()"
   ]
  },
  {
   "cell_type": "code",
   "execution_count": 83,
   "id": "published-conflict",
   "metadata": {},
   "outputs": [
    {
     "data": {
      "image/png": "[encoded data removed]",
      "text/plain": [
       "<Figure size 432x288 with 1 Axes>"
      ]
     },
     "metadata": {
      "needs_background": "light"
     },
     "output_type": "display_data"
    }
   ],
   "source": [
    "plt.plot(alphas,betas,'ro',label = 'original param')\n",
    "plt.plot(alphas_g,beta_g,'bo',label ='recovered param')\n",
    "plt.xlabel(\"alpha\")\n",
    "plt.ylabel(\"beta\")\n",
    "plt.grid()\n",
    "plt.legend()\n",
    "plt.savefig(\"qg3.pdf\")\n",
    "plt.show()"
   ]
  },
  {
   "cell_type": "code",
   "execution_count": 74,
   "id": "shaped-thickness",
   "metadata": {},
   "outputs": [],
   "source": [
    "#doing it five times and storing the pearson correlation coefficients"
   ]
  },
  {
   "cell_type": "code",
   "execution_count": 40,
   "id": "sharing-architecture",
   "metadata": {},
   "outputs": [
    {
     "name": "stdout",
     "output_type": "stream",
     "text": [
      "0.7056710454766495 0.5219722917508934\n",
      "0.7979337201581347 0.6929075447747912\n",
      "0.8060651015517899 0.3473066414259357\n",
      "0.6648978312040227 0.5192886033640631\n",
      "0.7358312418771529 0.6915048978672306\n"
     ]
    }
   ],
   "source": [
    "for i in range(5):\n",
    "    sam_a,sam_b = sample_al_be()\n",
    "    cho,out = new_simulate_g(sam_a,sam_b)\n",
    "    fi_al,fi_be = optimiz(cho,out)\n",
    "    p_alpha = np.corrcoef(sam_a,fi_al)[0][1]\n",
    "    p_beta = np.corrcoef(sam_b,fi_be)[0][1]\n",
    "    print(p_alpha,p_beta)"
   ]
  },
  {
   "cell_type": "code",
   "execution_count": 64,
   "id": "every-guess",
   "metadata": {},
   "outputs": [
    {
     "name": "stdout",
     "output_type": "stream",
     "text": [
      "0.7512546637365453 0.5087126582869749\n",
      "0.7543978595233344 0.47937394820885015\n",
      "0.749348975937072 0.5881956440988192\n",
      "0.8075532900292997 0.4113482004624997\n",
      "0.6531533435257222 0.7048433256079265\n"
     ]
    }
   ],
   "source": [
    "for i in range(5):\n",
    "    sam_a,sam_b = sample_al_be()\n",
    "    cho,out = new_simulate_g(sam_a,sam_b)\n",
    "    fi_al,fi_be = optimiz(cho,out)\n",
    "    p_alpha = np.corrcoef(sam_a,fi_al)[0][1]\n",
    "    p_beta = np.corrcoef(sam_b,fi_be)[0][1]\n",
    "    print(p_alpha,p_beta)"
   ]
  },
  {
   "cell_type": "code",
   "execution_count": 78,
   "id": "disabled-strategy",
   "metadata": {},
   "outputs": [
    {
     "name": "stdout",
     "output_type": "stream",
     "text": [
      "0.767051891237844 0.45836629771645954\n",
      "0.668345006496023 0.6206813710091618\n",
      "0.6726571343769638 0.44543913437552823\n",
      "0.6033584055473261 0.6299227241060847\n",
      "0.8142082882956463 0.515545594823087\n"
     ]
    }
   ],
   "source": [
    "#sample size is 80\n",
    "for i in range(5):\n",
    "    sam_a,sam_b = sample_al_be()\n",
    "    cho,out = new_simulate_g(sam_a,sam_b)\n",
    "    fi_al,fi_be = optimiz(cho,out)\n",
    "    p_alpha = np.corrcoef(sam_a,fi_al)[0][1]\n",
    "    p_beta = np.corrcoef(sam_b,fi_be)[0][1]\n",
    "    print(p_alpha,p_beta)"
   ]
  },
  {
   "cell_type": "code",
   "execution_count": null,
   "id": "false-starter",
   "metadata": {},
   "outputs": [],
   "source": []
  },
  {
   "cell_type": "code",
   "execution_count": null,
   "id": "fleet-liberty",
   "metadata": {},
   "outputs": [],
   "source": []
  },
  {
   "cell_type": "markdown",
   "id": "circular-flight",
   "metadata": {},
   "source": [
    "# H"
   ]
  },
  {
   "cell_type": "code",
   "execution_count": 124,
   "id": "decimal-federal",
   "metadata": {},
   "outputs": [],
   "source": [
    "def sim_h(alpha,beta,A):\n",
    "    V0 ,t = 0.5,160\n",
    "    v_a,v_b = np.zeros([t+1]),np.zeros([t+1])\n",
    "    v_a[0],v_b[0]=V0,V0\n",
    "    rp=[0.6,0.8,0.6,0.65]\n",
    "    list_choices,list_outcomes = [],[]\n",
    "    for i in range(0,t):\n",
    "        if(i%40 == 0):\n",
    "            r = rp[i//40] #probability that a produces loud noise\n",
    "        p_choose_a = np.e**(-1*beta*v_a[i])/(np.e**(-1*beta*v_a[i])+np.e**(-1*beta*v_b[i]))\n",
    "        p_choose_b = np.e**(-1*beta*v_b[i])/(np.e**(-1*beta*v_a[i])+np.e**(-1*beta*v_b[i]))\n",
    "        c = 1+ (p_choose_b > np.random.rand()) #1 if a is chosen 2 if b is chosen\n",
    "        if(c == 1): #stimulus A is chosen\n",
    "            outcome = 0 + (r > np.random.rand())\n",
    "            v_a[i+1] = A*v_a[i] + alpha*(outcome-v_a[i])\n",
    "            v_b[i+1] = v_b[i]\n",
    "        elif(c == 2): #stimulus B is chosen\n",
    "            outcome = 0 + ((1-r) > np.random.rand()) \n",
    "            v_b[i+1] = A*v_b[i] + alpha*(outcome-v_b[i])\n",
    "            v_a[i+1] = v_a[i]\n",
    "        list_choices.append(c)\n",
    "        list_outcomes.append(outcome)\n",
    "    return list_choices,list_outcomes\n",
    "    #return v_a,v_b,list_choices,list_outcomes"
   ]
  },
  {
   "cell_type": "code",
   "execution_count": 85,
   "id": "civic-barcelona",
   "metadata": {},
   "outputs": [],
   "source": [
    "alpha,beta,A = 0.4,5,0.5\n",
    "#choices_h,outcomes_h = sim_h(alpha,beta,A)\n",
    "#print(choices_h,outcomes_h)"
   ]
  },
  {
   "cell_type": "code",
   "execution_count": 125,
   "id": "interracial-mobility",
   "metadata": {},
   "outputs": [],
   "source": [
    "def new_simulate_h(alpha,beta,A,sims):\n",
    "    new_choices,new_outcomes = [],[]\n",
    "    new_va,new_vb = [],[]\n",
    "    for i in range(sims):\n",
    "        #print(sampled_alpha[i],sampled_beta[i])\n",
    "        #a,b,ch,ou = sim_h(alpha,beta,A)\n",
    "        ch,ou = sim_h(alpha,beta,A)\n",
    "        #new_va.append(a)\n",
    "        #new_vb.append(b)\n",
    "        new_choices.append(ch)\n",
    "        new_outcomes.append(ou)\n",
    "    #new_va,new_vb = np.mean(np.array(new_va),axis = 0),np.mean(np.array(new_vb),axis = 0)\n",
    "    #plot(new_va,new_vb)\n",
    "    return new_choices,new_outcomes"
   ]
  },
  {
   "cell_type": "code",
   "execution_count": 119,
   "id": "sitting-hampton",
   "metadata": {},
   "outputs": [
    {
     "data": {
      "image/png": "[encoded data removed]",
      "text/plain": [
       "<Figure size 432x432 with 2 Axes>"
      ]
     },
     "metadata": {
      "needs_background": "light"
     },
     "output_type": "display_data"
    },
    {
     "name": "stdout",
     "output_type": "stream",
     "text": [
      "50 50\n"
     ]
    }
   ],
   "source": [
    "choices_h1,outcomes_h1 = new_simulate_h(alpha,beta,A,50)\n",
    "print(len(choices_h),len(outcomes_h))"
   ]
  },
  {
   "cell_type": "code",
   "execution_count": 87,
   "id": "labeled-western",
   "metadata": {},
   "outputs": [
    {
     "name": "stdout",
     "output_type": "stream",
     "text": [
      "50 50\n"
     ]
    }
   ],
   "source": [
    "choices_h,outcomes_h = new_simulate_h(alpha,beta,A,50)\n",
    "print(len(choices_h),len(outcomes_h))"
   ]
  },
  {
   "cell_type": "code",
   "execution_count": 126,
   "id": "brown-disney",
   "metadata": {},
   "outputs": [],
   "source": [
    "def nll_h(alpha,beta,A,choices,outcomes): #choices,outcomes is list of 160 values not list of lists\n",
    "    choice_probabilities = []\n",
    "    t = choices.shape[0]\n",
    "    #v_a,v_b = np.zeros([t+1]),np.zeros([t+1])\n",
    "    #t=len(choices)\n",
    "    V0=0.5\n",
    "    #v_a[0],v_b[0]=V0,V0\n",
    "    v_a,v_b = 0.5,0.5\n",
    "    for i in range(0,t):\n",
    "        c = choices[i]\n",
    "        #c_alt = 1 + (c==1)\n",
    "        if c== 1:\n",
    "            p_choose_c = np.e**(-1*beta*v_a)/(np.e**(-1*beta*v_a)+np.e**(-1*beta*v_b))\n",
    "            v_a = A*v_a + alpha*(outcomes[i]-v_a)\n",
    "            choice_probabilities.append(p_choose_c)\n",
    "        elif c==2:\n",
    "            p_choose_c = np.e**(-1*beta*v_b)/(np.e**(-1*beta*v_a)+np.e**(-1*beta*v_b))\n",
    "            v_b = A*v_b+ alpha*(outcomes[i]-v_b)\n",
    "            choice_probabilities.append(p_choose_c)\n",
    "    #print(choice_probabilities)\n",
    "    #calculate negative log\n",
    "    sum = 0;\n",
    "    for i in choice_probabilities:\n",
    "        x = np.log(i)\n",
    "        sum = sum +x\n",
    "    sum = sum*-1\n",
    "    #print(sum)\n",
    "    return sum"
   ]
  },
  {
   "cell_type": "code",
   "execution_count": 89,
   "id": "plastic-cotton",
   "metadata": {},
   "outputs": [
    {
     "data": {
      "text/plain": [
       "82.77040646903939"
      ]
     },
     "execution_count": 89,
     "metadata": {},
     "output_type": "execute_result"
    }
   ],
   "source": [
    "nll_h(alpha,beta,A,np.array(choices_h[0]),np.array(outcomes_h[0]))"
   ]
  },
  {
   "cell_type": "code",
   "execution_count": 127,
   "id": "sensitive-locator",
   "metadata": {},
   "outputs": [],
   "source": [
    "from scipy.optimize import minimize\n",
    "def optimiz_h(new_choices,new_outcomes):\n",
    "    final_results = []\n",
    "    for i in range(50):\n",
    "        a,b = np.array(new_choices[i]),np.array(new_outcomes[i])\n",
    "        #print(a,b)\n",
    "        #a,b = new_choices[i],new_outcomes[i]\n",
    "        foo3 = lambda P: nll_h(P[0], P[1],P[2], a, b)\n",
    "        #foo3 = lambda P: nll_h(P[0], P[1],x, a, b)\n",
    "        initial_guess = (0.4,5,0.5)\n",
    "        results = minimize(foo3,x0 = initial_guess, method='Nelder-Mead')\n",
    "        final_results.append(results.x)\n",
    "    fit_alpha = [final_results[i][0] for i in range(50)]\n",
    "    fit_beta = [final_results[i][1] for i in range(50)]\n",
    "    fit_A = [final_results[i][2] for i in range(50)]\n",
    "    return fit_alpha,fit_beta,fit_A"
   ]
  },
  {
   "cell_type": "code",
   "execution_count": 110,
   "id": "burning-things",
   "metadata": {},
   "outputs": [],
   "source": [
    "def con(t):\n",
    "    return t[0] - 1\n",
    "def con1(t):\n",
    "    return t[1] - 10\n",
    "def con2(t):\n",
    "    return t[2] - 1\n",
    "cons = [{'type':'ineq', 'fun': con},\n",
    "        {'type':'ineq', 'fun': con1},\n",
    "        {'type':'ineq', 'fun': con2}]"
   ]
  },
  {
   "cell_type": "code",
   "execution_count": 111,
   "id": "heard-values",
   "metadata": {},
   "outputs": [],
   "source": [
    "from scipy.optimize import minimize\n",
    "def optimiz_h1(new_choices,new_outcomes):\n",
    "    final_results = []\n",
    "    for i in range(50):\n",
    "        a,b = np.array(new_choices[i]),np.array(new_outcomes[i])\n",
    "        #print(a,b)\n",
    "        #a,b = new_choices[i],new_outcomes[i]\n",
    "        foo3 = lambda P: nll_h(P[0], P[1],P[2], a, b)\n",
    "        #foo3 = lambda P: nll_h(P[0], P[1],x, a, b)\n",
    "        initial_guess = (0.4,5,0.5)\n",
    "        results = minimize(foo3,x0 = initial_guess, constraints = cons,method='COBYLA')\n",
    "        final_results.append(results.x)\n",
    "    fit_alpha = [final_results[i][0] for i in range(50)]\n",
    "    fit_beta = [final_results[i][1] for i in range(50)]\n",
    "    fit_A = [final_results[i][2] for i in range(50)]\n",
    "    return fit_alpha,fit_beta,fit_A"
   ]
  },
  {
   "cell_type": "code",
   "execution_count": 91,
   "id": "welcome-appearance",
   "metadata": {},
   "outputs": [],
   "source": [
    "fit_al,fit_be,fit_A = optimiz_h(choices_h,outcomes_h)"
   ]
  },
  {
   "cell_type": "code",
   "execution_count": 112,
   "id": "convinced-working",
   "metadata": {},
   "outputs": [
    {
     "name": "stderr",
     "output_type": "stream",
     "text": [
      "/tmp/ipykernel_72/791652176.py:13: RuntimeWarning: invalid value encountered in double_scalars\n",
      "  p_choose_c = np.e**(-1*beta*v_a)/(np.e**(-1*beta*v_a)+np.e**(-1*beta*v_b))\n",
      "/tmp/ipykernel_72/791652176.py:17: RuntimeWarning: invalid value encountered in double_scalars\n",
      "  p_choose_c = np.e**(-1*beta*v_b)/(np.e**(-1*beta*v_a)+np.e**(-1*beta*v_b))\n",
      "/tmp/ipykernel_72/791652176.py:24: RuntimeWarning: divide by zero encountered in log\n",
      "  x = np.log(i)\n"
     ]
    }
   ],
   "source": [
    "fit_al1,fit_be1,fit_A1 = optimiz_h1(choices_h,outcomes_h)"
   ]
  },
  {
   "cell_type": "code",
   "execution_count": 50,
   "id": "wireless-coach",
   "metadata": {},
   "outputs": [
    {
     "name": "stdout",
     "output_type": "stream",
     "text": [
      "50 50 50\n"
     ]
    }
   ],
   "source": [
    "print(len(fit_al),len(fit_be),len(fit_A))"
   ]
  },
  {
   "cell_type": "code",
   "execution_count": 104,
   "id": "equivalent-shaft",
   "metadata": {},
   "outputs": [
    {
     "name": "stdout",
     "output_type": "stream",
     "text": [
      "[0.4, 0.4, 0.4, 0.4, 0.4, 0.4, 0.4, 0.4, 0.4, 0.4, 0.4, 0.4, 0.4, 0.4, 0.4, 0.4, 0.4, 0.4, 0.4, 0.4, 0.4, 0.4, 0.4, 0.4, 0.4, 0.4, 0.4, 0.4, 0.4, 0.4, 0.4, 0.4, 0.4, 0.4, 0.4, 0.4, 0.4, 0.4, 0.4, 0.4, 0.4, 0.4, 0.4, 0.4, 0.4, 0.4, 0.4, 0.4, 0.4, 0.4]\n"
     ]
    }
   ],
   "source": [
    "print(fit_al1)"
   ]
  },
  {
   "cell_type": "code",
   "execution_count": 121,
   "id": "matched-guest",
   "metadata": {},
   "outputs": [
    {
     "data": {
      "image/png": "[encoded data removed]",
      "text/plain": [
       "<Figure size 432x288 with 1 Axes>"
      ]
     },
     "metadata": {
      "needs_background": "light"
     },
     "output_type": "display_data"
    }
   ],
   "source": [
    "plt.plot(alphas,betas,'ro',label = 'original param')\n",
    "plt.plot(fit_al,fit_be,'bo',label ='recovered param')\n",
    "plt.xlabel(\"alpha\")\n",
    "plt.ylabel(\"beta\")\n",
    "plt.grid()\n",
    "plt.legend()\n",
    "plt.savefig(\"qh1.pdf\")\n",
    "plt.show()"
   ]
  },
  {
   "cell_type": "code",
   "execution_count": 52,
   "id": "needed-manchester",
   "metadata": {},
   "outputs": [],
   "source": [
    "#fit_al"
   ]
  },
  {
   "cell_type": "code",
   "execution_count": null,
   "id": "incredible-shower",
   "metadata": {},
   "outputs": [],
   "source": [
    "#fit_be"
   ]
  },
  {
   "cell_type": "code",
   "execution_count": null,
   "id": "above-vocabulary",
   "metadata": {},
   "outputs": [],
   "source": [
    "#fit_A"
   ]
  },
  {
   "cell_type": "markdown",
   "id": "excellent-console",
   "metadata": {},
   "source": [
    "# I"
   ]
  },
  {
   "cell_type": "code",
   "execution_count": 123,
   "id": "satellite-reliance",
   "metadata": {},
   "outputs": [],
   "source": [
    "s=50\n",
    "choice_model = np.array(choices)\n",
    "outcome_model = np.array(outcomes)\n",
    "new_alpha_1,new_beta_1 = optimiz(choice_model,outcome_model)\n",
    "#new_alpha_2,new_beta_2,new_A = optimiz_h(choice_model,outcome_model)"
   ]
  },
  {
   "cell_type": "code",
   "execution_count": 128,
   "id": "musical-wages",
   "metadata": {},
   "outputs": [
    {
     "name": "stderr",
     "output_type": "stream",
     "text": [
      "/tmp/ipykernel_72/791652176.py:24: RuntimeWarning: divide by zero encountered in log\n",
      "  x = np.log(i)\n"
     ]
    }
   ],
   "source": [
    "new_alpha_2,new_beta_2,new_A = optimiz_h(choice_model,outcome_model)"
   ]
  },
  {
   "cell_type": "code",
   "execution_count": 130,
   "id": "formed-client",
   "metadata": {},
   "outputs": [],
   "source": [
    "#new_alpha_2"
   ]
  },
  {
   "cell_type": "code",
   "execution_count": 58,
   "id": "thick-hollywood",
   "metadata": {},
   "outputs": [],
   "source": [
    "nlls1,nlls2= [],[]\n",
    "for i in range(50):\n",
    "    nlls1.append(nll(new_alpha_1[i],new_beta_1[i],choice_model[i],outcome_model[i]))\n",
    "    nlls2.append(nll_h(new_alpha_2[i],new_beta_2[i],new_A[i],choice_model[i],outcome_model[i]))"
   ]
  },
  {
   "cell_type": "code",
   "execution_count": 59,
   "id": "satisfactory-dublin",
   "metadata": {},
   "outputs": [
    {
     "name": "stdout",
     "output_type": "stream",
     "text": [
      "[47.75940023261381, 54.919542824375995, 34.59878630978638, 27.74201802000591, 56.98302465254872, 57.05618112135831, 45.11195183268515, 54.81692477225143, 49.6229144687348, 47.85597345575332, 47.56697524046556, 34.731002981627434, 44.54292640459597, 50.793114373662874, 62.464770701398045, 54.726512125988314, 30.87773119679639, 31.102330628544568, 66.4125174178766, 45.91596442088622, 56.658556045356434, 47.462807056167414, 63.65265147209864, 40.22606035666238, 97.30860193312587, 67.91003083778298, 63.090787678163046, 88.13828262582982, 74.39358922327581, 54.77487412740186, 55.456452626120885, 70.11715787269047, 73.231421255419, 68.70085191836398, 78.63913526461303, 83.57885404357091, 59.01812645316007, 52.39504670086938, 98.90208894806155, 87.5697559383386, 56.76813895790878, 61.836599524456055, 62.42907139840675, 84.33650270428548, 38.99229341851716, 82.72018844984451, 59.85036959414779, 32.574724084569134, 83.25344973631907, 45.63032545748444]\n"
     ]
    }
   ],
   "source": [
    "print(nlls1)"
   ]
  },
  {
   "cell_type": "code",
   "execution_count": 60,
   "id": "married-defensive",
   "metadata": {},
   "outputs": [
    {
     "name": "stdout",
     "output_type": "stream",
     "text": [
      "[47.582726077015494, 54.86822431692977, 34.5033003086872, 25.30238497035402, 56.92102595091858, 56.71004053040042, 44.64561596344492, 54.78774982254695, 48.151373277584305, 47.72876199262504, 47.17739879989671, 33.829648706523585, 44.36828623273108, 50.706865999337616, 62.29306371646534, 54.68920214222438, 30.846687582070018, 30.66780716600746, 65.90880085150715, 45.913725732548976, 56.65726769788451, 45.94019966634542, 62.7540591744226, 39.21878078013397, 97.00472844000039, 66.97283773165013, 62.316131512155664, 86.92532792535606, 73.28626461906855, 54.53651442800892, 55.191825450760184, 69.49960190805189, 72.71738818858685, 68.49986521735849, 78.3666689985552, 83.49863079735857, 58.48080527603069, 52.38144071370868, 98.51408460089327, 87.46947737566978, 55.727565883677386, 61.395963696105234, 62.41636055929262, 84.2489043481548, 38.915966637053536, 82.71881424886888, 58.025587710713715, 32.521779546078974, 82.61717950636684, 45.258233844567805]\n"
     ]
    }
   ],
   "source": [
    "print(nlls2)"
   ]
  },
  {
   "cell_type": "code",
   "execution_count": 67,
   "id": "express-trustee",
   "metadata": {},
   "outputs": [
    {
     "name": "stdout",
     "output_type": "stream",
     "text": [
      "6070.434717769934 6377.952099293323\n"
     ]
    }
   ],
   "source": [
    "aic1,bic1 = 0,0\n",
    "for i in nlls1:\n",
    "    aic1 = aic1 + 2*i + 2*2\n",
    "    bic1 = bic1 + 2*i + 2*np.log(160)\n",
    "print(aic1,bic1)"
   ]
  },
  {
   "cell_type": "code",
   "execution_count": 68,
   "id": "rural-germany",
   "metadata": {},
   "outputs": [
    {
     "name": "stdout",
     "output_type": "stream",
     "text": [
      "6123.361893245398 6584.637965530476\n"
     ]
    }
   ],
   "source": [
    "aic2,bic2 = 0,0\n",
    "for i in nlls2:\n",
    "    aic2 = aic2 + 2*i + 2*3\n",
    "    bic2 = bic2 + 2*i + 3*np.log(160)\n",
    "print(aic2,bic2)"
   ]
  },
  {
   "cell_type": "code",
   "execution_count": 136,
   "id": "grave-administration",
   "metadata": {},
   "outputs": [],
   "source": [
    "def cal_nll(nlls1):\n",
    "    aic1,bic1 = 0,0\n",
    "    for i in nlls1:\n",
    "        aic1 = aic1 + 2*i + 2*2\n",
    "        bic1 = bic1 + 2*i + 2*np.log(160)\n",
    "    #print(aic1,bic1)\n",
    "    return aic1,bic1"
   ]
  },
  {
   "cell_type": "code",
   "execution_count": 137,
   "id": "early-break",
   "metadata": {},
   "outputs": [],
   "source": [
    "def cal_nll2(nlls2):\n",
    "    aic2,bic2 = 0,0\n",
    "    for i in nlls2:\n",
    "        aic2 = aic2 + 2*i + 2*3\n",
    "        bic2 = bic2 + 2*i + 3*np.log(160)\n",
    "    #print(aic2,bic2)\n",
    "    return aic2,bic2"
   ]
  },
  {
   "cell_type": "code",
   "execution_count": 138,
   "id": "metropolitan-signal",
   "metadata": {},
   "outputs": [],
   "source": [
    "def cal_aic_bic(op_al,op_b,choice_model,outcome_model):\n",
    "    nlls1= []\n",
    "    for i in range(50):\n",
    "        nlls1.append(nll(op_al[i],op_b[i],choice_model[i],outcome_model[i]))\n",
    "    aic,bic = cal_nll(nlls1)\n",
    "    return aic,bic"
   ]
  },
  {
   "cell_type": "code",
   "execution_count": 139,
   "id": "tutorial-macro",
   "metadata": {},
   "outputs": [],
   "source": [
    "def cal_aic_bic1(op_al,op_b,op_A,choice_model,outcome_model):\n",
    "    nlls2= []\n",
    "    for i in range(50):\n",
    "        nlls2.append(nll_h(op_al[i],op_b[i],op_A[i],choice_model[i],outcome_model[i]))\n",
    "    aic,bic = cal_nll2(nlls2)\n",
    "    return aic,bic"
   ]
  },
  {
   "cell_type": "code",
   "execution_count": 78,
   "id": "surprised-advice",
   "metadata": {},
   "outputs": [
    {
     "data": {
      "text/plain": [
       "(6070.434717769934, 6377.952099293323)"
      ]
     },
     "execution_count": 78,
     "metadata": {},
     "output_type": "execute_result"
    }
   ],
   "source": [
    "cal_aic_bic(new_alpha_1,new_beta_1,choice_model,outcome_model)"
   ]
  },
  {
   "cell_type": "code",
   "execution_count": 83,
   "id": "revolutionary-uncle",
   "metadata": {},
   "outputs": [
    {
     "data": {
      "text/plain": [
       "(6123.361893245398, 6584.637965530476)"
      ]
     },
     "execution_count": 83,
     "metadata": {},
     "output_type": "execute_result"
    }
   ],
   "source": [
    "cal_aic_bic1(new_alpha_2,new_beta_2,new_A,choice_model,outcome_model)"
   ]
  },
  {
   "cell_type": "markdown",
   "id": "intensive-catch",
   "metadata": {},
   "source": [
    "# J"
   ]
  },
  {
   "cell_type": "code",
   "execution_count": 134,
   "id": "smart-forum",
   "metadata": {},
   "outputs": [],
   "source": [
    "def model1_sims():\n",
    "    list_aic,list_bic = [],[]\n",
    "    for i in range(10):\n",
    "        al,be = sample_al_be()\n",
    "        new_choice,new_outcome = new_simulate_g(al,be)\n",
    "        op_al,op_be = optimiz(new_choice,new_outcome)\n",
    "        aic,bic = cal_aic_bic(op_al,op_be,np.array(new_choice),np.array(new_outcome))\n",
    "        list_aic.append(aic)\n",
    "        list_bic.append(bic)\n",
    "    return list_aic,list_bic"
   ]
  },
  {
   "cell_type": "code",
   "execution_count": 140,
   "id": "suited-allen",
   "metadata": {},
   "outputs": [
    {
     "data": {
      "text/plain": [
       "([5681.641920662026,\n",
       "  5410.6951362179625,\n",
       "  5657.842841963669,\n",
       "  5401.737080064049,\n",
       "  5437.995126381546,\n",
       "  5583.543133986505,\n",
       "  5364.171620775699,\n",
       "  5638.050037845542,\n",
       "  5306.952993605189,\n",
       "  5443.651483063425],\n",
       " [5989.159302185416,\n",
       "  5718.212517741354,\n",
       "  5965.36022348706,\n",
       "  5709.254461587439,\n",
       "  5745.512507904935,\n",
       "  5891.060515509896,\n",
       "  5671.689002299088,\n",
       "  5945.567419368932,\n",
       "  5614.470375128579,\n",
       "  5751.168864586814])"
      ]
     },
     "execution_count": 140,
     "metadata": {},
     "output_type": "execute_result"
    }
   ],
   "source": [
    "model1_sims()"
   ]
  },
  {
   "cell_type": "code",
   "execution_count": 141,
   "id": "representative-recycling",
   "metadata": {},
   "outputs": [],
   "source": [
    "def model2_sims():\n",
    "    list_aic,list_bic = [],[]\n",
    "    for i in range(10):\n",
    "        #al,be = sample_al_be()\n",
    "        al,be,A = 0.4,5,0.5\n",
    "        new_choice,new_outcome = new_simulate_h(al,be,A,50)\n",
    "        op_al,op_be,op_A = optimiz_h(new_choice,new_outcome)\n",
    "        aic,bic = cal_aic_bic1(op_al,op_be,op_A,np.array(new_choice),np.array(new_outcome))\n",
    "        list_aic.append(aic)\n",
    "        list_bic.append(bic)\n",
    "    return list_aic,list_bic"
   ]
  },
  {
   "cell_type": "code",
   "execution_count": 142,
   "id": "based-louisville",
   "metadata": {},
   "outputs": [
    {
     "data": {
      "text/plain": [
       "([8239.467815092756,\n",
       "  8179.934487609557,\n",
       "  8151.706111788833,\n",
       "  8076.594431326528,\n",
       "  8124.715839143555,\n",
       "  8207.71256024479,\n",
       "  8128.268002083504,\n",
       "  8072.652260749081,\n",
       "  8224.616738190913,\n",
       "  8138.9256974711925],\n",
       " [8700.743887377837,\n",
       "  8641.210559894638,\n",
       "  8612.982184073917,\n",
       "  8537.870503611612,\n",
       "  8585.991911428639,\n",
       "  8668.988632529872,\n",
       "  8589.544074368587,\n",
       "  8533.928333034162,\n",
       "  8685.892810475996,\n",
       "  8600.201769756275])"
      ]
     },
     "execution_count": 142,
     "metadata": {},
     "output_type": "execute_result"
    }
   ],
   "source": [
    "model2_sims()"
   ]
  },
  {
   "cell_type": "code",
   "execution_count": 131,
   "id": "crude-communist",
   "metadata": {},
   "outputs": [],
   "source": [
    "aic1 = [5609.43027503784,\n",
    "  5464.587634020067,\n",
    "  5415.327200384275,\n",
    "  5228.660684777191,\n",
    "  5483.995198636268,\n",
    "  5620.418249682174,\n",
    "  5511.770480541684,\n",
    "  5545.4242323677145,\n",
    "  5041.626862644927,\n",
    "  5613.093488257431]\n",
    "bic1 = [5916.9476565612285,\n",
    "  5772.105015543455,\n",
    "  5722.844581907664,\n",
    "  5536.178066300581,\n",
    "  5791.512580159657,\n",
    "  5927.935631205564,\n",
    "  5819.287862065075,\n",
    "  5852.941613891105,\n",
    "  5349.144244168316,\n",
    "  5920.610869780821]\n",
    "aic2 = [8048.278795710777,\n",
    "  8117.1522446812005,\n",
    "  8001.24158832944,\n",
    "  8066.240169086124,\n",
    "  8327.959759680025,\n",
    "  8023.876083213761,\n",
    "  8066.710864541716,\n",
    "  8096.76098865139,\n",
    "  8033.130660923824,\n",
    "  8052.241983234967]\n",
    "bic2 = [8509.55486799586,\n",
    "  8578.428316966285,\n",
    "  8462.517660614521,\n",
    "  8527.516241371208,\n",
    "  8789.235831965107,\n",
    "  8485.152155498845,\n",
    "  8527.9869368268,\n",
    "  8558.037060936473,\n",
    "  8494.406733208907,\n",
    "  8513.518055520048]"
   ]
  },
  {
   "cell_type": "code",
   "execution_count": null,
   "id": "swiss-punch",
   "metadata": {},
   "outputs": [],
   "source": []
  },
  {
   "cell_type": "code",
   "execution_count": 92,
   "id": "responsible-subject",
   "metadata": {},
   "outputs": [],
   "source": [
    "from sklearn.metrics import confusion_matrix\n",
    "cf_matrix = confusion_matrix(np.round(aic1),np.round(aic2))"
   ]
  },
  {
   "cell_type": "code",
   "execution_count": 96,
   "id": "peaceful-modification",
   "metadata": {},
   "outputs": [
    {
     "data": {
      "text/plain": [
       "5609.0"
      ]
     },
     "execution_count": 96,
     "metadata": {},
     "output_type": "execute_result"
    }
   ],
   "source": [
    "np.round(aic1)[0]"
   ]
  },
  {
   "cell_type": "code",
   "execution_count": null,
   "id": "cross-repository",
   "metadata": {},
   "outputs": [],
   "source": []
  },
  {
   "cell_type": "code",
   "execution_count": 150,
   "id": "running-director",
   "metadata": {},
   "outputs": [
    {
     "data": {
      "image/png": "[encoded data removed]",
      "text/plain": [
       "<Figure size 432x288 with 2 Axes>"
      ]
     },
     "metadata": {
      "needs_background": "light"
     },
     "output_type": "display_data"
    }
   ],
   "source": [
    "import seaborn as sns\n",
    "\n",
    "ax = sns.heatmap(cf_matrix, annot=True, cmap='Blues')\n",
    "\n",
    "ax.set_title('Comparison in AIC scores for model1,model2');\n",
    "ax.set_xlabel('AIC Model1')\n",
    "ax.set_ylabel('AIC Model2');\n",
    "\n",
    "## Ticket labels - List must be in alphabetical order\n",
    "ax.xaxis.set_ticklabels(list(range(10)))\n",
    "ax.yaxis.set_ticklabels(list(range(10)))\n",
    "\n",
    "## Display the visualization of the Confusion Matrix.\n",
    "plt.show()"
   ]
  },
  {
   "cell_type": "markdown",
   "id": "separate-headline",
   "metadata": {},
   "source": [
    "# K"
   ]
  },
  {
   "cell_type": "code",
   "execution_count": 152,
   "id": "fantastic-bridal",
   "metadata": {},
   "outputs": [],
   "source": [
    "def sim_k(alpha_plus,alpha_minus,beta):\n",
    "    V0 ,t = 0.5,160\n",
    "    v_a,v_b = np.zeros([t+1]),np.zeros([t+1])\n",
    "    v_a[0],v_b[0]=V0,V0\n",
    "    rp=[0.6,0.8,0.6,0.65]\n",
    "    list_choices,list_outcomes = [],[]\n",
    "    for i in range(0,t):\n",
    "        if(i%40 == 0):\n",
    "            r = rp[i//40] #probability that a produces loud noise\n",
    "        p_choose_a = np.e**(-1*beta*v_a[i])/(np.e**(-1*beta*v_a[i])+np.e**(-1*beta*v_b[i]))\n",
    "        p_choose_b = np.e**(-1*beta*v_b[i])/(np.e**(-1*beta*v_a[i])+np.e**(-1*beta*v_b[i]))\n",
    "        c = 1+ (p_choose_b > np.random.rand()) #1 if a is chosen 2 if b is chosen\n",
    "        if(c == 1): #stimulus A is chosen\n",
    "            outcome = 0 + (r > np.random.rand())\n",
    "            v_a[i+1] = v_a[i] + ((1-outcome)*alpha_plus + outcome*alpha_minus)*(outcome-v_a[i])\n",
    "            v_b[i+1] = v_b[i]\n",
    "        elif(c == 2): #stimulus B is chosen\n",
    "            outcome = 0 + ((1-r) > np.random.rand()) \n",
    "            v_b[i+1] = v_b[i] + ((1-outcome)*alpha_plus + outcome*alpha_minus)*(outcome-v_b[i])\n",
    "            v_a[i+1] = v_a[i]\n",
    "        list_choices.append(c)\n",
    "        list_outcomes.append(outcome)\n",
    "    return list_choices,list_outcomes\n",
    "    #return v_a,v_b,list_choices,list_outcomes"
   ]
  },
  {
   "cell_type": "code",
   "execution_count": 153,
   "id": "valid-premises",
   "metadata": {},
   "outputs": [],
   "source": [
    "def new_simulate_k(alpha_plus,alpha_minus,beta,sims):\n",
    "    new_choices,new_outcomes = [],[]\n",
    "    new_va,new_vb = [],[]\n",
    "    for i in range(sims):\n",
    "        #print(sampled_alpha[i],sampled_beta[i])\n",
    "        #a,b,ch,ou = sim_h(alpha,beta,A)\n",
    "        ch,ou = sim_k(alpha_plus,alpha_minus,beta)\n",
    "        #new_va.append(a)\n",
    "        #new_vb.append(b)\n",
    "        new_choices.append(ch)\n",
    "        new_outcomes.append(ou)\n",
    "    #new_va,new_vb = np.mean(np.array(new_va),axis = 0),np.mean(np.array(new_vb),axis = 0)\n",
    "    #plot(new_va,new_vb)\n",
    "    return new_choices,new_outcomes"
   ]
  },
  {
   "cell_type": "code",
   "execution_count": 154,
   "id": "clinical-breast",
   "metadata": {},
   "outputs": [],
   "source": [
    "def nll_k(alpha_plus,alpha_minus,beta,choices,outcomes): #choices,outcomes is list of 160 values not list of lists\n",
    "    choice_probabilities = []\n",
    "    t = choices.shape[0]\n",
    "    #v_a,v_b = np.zeros([t+1]),np.zeros([t+1])\n",
    "    #t=len(choices)\n",
    "    V0=0.5\n",
    "    #v_a[0],v_b[0]=V0,V0\n",
    "    v_a,v_b = 0.5,0.5\n",
    "    for i in range(0,t):\n",
    "        c = choices[i]\n",
    "        #c_alt = 1 + (c==1)\n",
    "        if c== 1:\n",
    "            p_choose_c = np.e**(-1*beta*v_a)/(np.e**(-1*beta*v_a)+np.e**(-1*beta*v_b))\n",
    "            v_a = v_a + ((1-outcomes[i])*alpha_plus + outcomes[i]*alpha_minus)*(outcomes[i]-v_a)\n",
    "            choice_probabilities.append(p_choose_c)\n",
    "        elif c==2:\n",
    "            p_choose_c = np.e**(-1*beta*v_b)/(np.e**(-1*beta*v_a)+np.e**(-1*beta*v_b))\n",
    "            v_b = v_b+ ((1-outcomes[i])*alpha_plus + outcomes[i]*alpha_minus)*(outcomes[i]-v_b)\n",
    "            choice_probabilities.append(p_choose_c)\n",
    "    #print(choice_probabilities)\n",
    "    #calculate negative log\n",
    "    sum = 0;\n",
    "    for i in choice_probabilities:\n",
    "        x = np.log(i)\n",
    "        sum = sum +x\n",
    "    sum = sum*-1\n",
    "    #print(sum)\n",
    "    return sum"
   ]
  },
  {
   "cell_type": "code",
   "execution_count": 167,
   "id": "multiple-sapphire",
   "metadata": {},
   "outputs": [],
   "source": [
    "from scipy.optimize import minimize\n",
    "def optimiz_k(new_choices,new_outcomes,s):\n",
    "    final_results = []\n",
    "    for i in range(s):\n",
    "        a,b = np.array(new_choices[i]),np.array(new_outcomes[i])\n",
    "        #print(a,b)\n",
    "        #a,b = new_choices[i],new_outcomes[i]\n",
    "        foo3 = lambda P: nll_k(P[0], P[1],P[2], a, b)\n",
    "        #foo3 = lambda P: nll_h(P[0], P[1],x, a, b)\n",
    "        initial_guess = (0.25,0.35,6)\n",
    "        results = minimize(foo3,x0 = initial_guess, method='Nelder-Mead')\n",
    "        final_results.append(results.x)\n",
    "    fit_alpha_plus = [final_results[i][0] for i in range(s)]\n",
    "    fit_alpha_minus = [final_results[i][1] for i in range(s)]\n",
    "    fit_beta = [final_results[i][2] for i in range(s)]\n",
    "    return fit_alpha_plus,fit_alpha_minus,fit_beta"
   ]
  },
  {
   "cell_type": "code",
   "execution_count": 156,
   "id": "standing-exhibit",
   "metadata": {},
   "outputs": [],
   "source": [
    "def cal_nll3(nlls3):\n",
    "    aic3,bic3 = 0,0\n",
    "    for i in nlls3:\n",
    "        aic3 = aic3 + 2*i + 2*3\n",
    "        bic3 = bic3 + 2*i + 3*np.log(160)\n",
    "    #print(aic2,bic2)\n",
    "    return aic3,bic3"
   ]
  },
  {
   "cell_type": "code",
   "execution_count": 157,
   "id": "moving-yield",
   "metadata": {},
   "outputs": [],
   "source": [
    "def cal_aic_bic2(op_al_p,op_al_m,op_b,choice_model,outcome_model):\n",
    "    nlls3= []\n",
    "    for i in range(50):\n",
    "        nlls3.append(nll_k(op_al_p[i],op_al_m[i],op_b[i],choice_model[i],outcome_model[i]))\n",
    "    aic,bic = cal_nll3(nlls3)\n",
    "    return aic,bic"
   ]
  },
  {
   "cell_type": "code",
   "execution_count": 161,
   "id": "dedicated-geneva",
   "metadata": {},
   "outputs": [],
   "source": [
    "def model3_sims():\n",
    "    list_aic,list_bic = [],[]\n",
    "    for i in range(10):\n",
    "        #al,be = sample_al_be()\n",
    "        al_p,al_m,be = 0.25,0.35,6\n",
    "        new_choice,new_outcome = new_simulate_k(al_p,al_m,be,50)\n",
    "        op_al_p,op_al_m,op_be = optimiz_k(new_choice,new_outcome)\n",
    "        aic,bic = cal_aic_bic2(op_al_p,op_al_m,op_be,np.array(new_choice),np.array(new_outcome))\n",
    "        list_aic.append(aic)\n",
    "        list_bic.append(bic)\n",
    "    return list_aic,list_bic"
   ]
  },
  {
   "cell_type": "code",
   "execution_count": 203,
   "id": "maritime-wellington",
   "metadata": {},
   "outputs": [],
   "source": [
    "s=50\n",
    "choice_model = np.array(choices)\n",
    "outcome_model = np.array(outcomes)\n",
    "new_alpha_p,new_alpha_m,new_beta = optimiz_k(choice_model,outcome_model,s)\n",
    "aic,bic = cal_aic_bic2(new_alpha_p,new_alpha_m,new_beta,choice_model,outcome_model)"
   ]
  },
  {
   "cell_type": "code",
   "execution_count": 204,
   "id": "social-multiple",
   "metadata": {},
   "outputs": [
    {
     "name": "stdout",
     "output_type": "stream",
     "text": [
      "6043.09048875316 6504.3665610382395\n"
     ]
    }
   ],
   "source": [
    "print(aic,bic)"
   ]
  },
  {
   "cell_type": "code",
   "execution_count": 162,
   "id": "modular-groove",
   "metadata": {},
   "outputs": [
    {
     "data": {
      "text/plain": [
       "([5590.87811515784,\n",
       "  5760.254964317822,\n",
       "  5747.526834139713,\n",
       "  5735.907402868203,\n",
       "  5342.021298967909,\n",
       "  5635.994626251078,\n",
       "  5634.922981467614,\n",
       "  5783.797564784011,\n",
       "  5634.617662881217,\n",
       "  5746.115286457121],\n",
       " [6052.154187442918,\n",
       "  6221.531036602902,\n",
       "  6208.802906424792,\n",
       "  6197.183475153281,\n",
       "  5803.297371252988,\n",
       "  6097.2706985361565,\n",
       "  6096.1990537526935,\n",
       "  6245.073637069089,\n",
       "  6095.893735166296,\n",
       "  6207.3913587422])"
      ]
     },
     "execution_count": 162,
     "metadata": {},
     "output_type": "execute_result"
    }
   ],
   "source": [
    "model3_sims()"
   ]
  },
  {
   "cell_type": "code",
   "execution_count": 163,
   "id": "funded-panel",
   "metadata": {},
   "outputs": [],
   "source": [
    "aic3 = [5590.87811515784,\n",
    "  5760.254964317822,\n",
    "  5747.526834139713,\n",
    "  5735.907402868203,\n",
    "  5342.021298967909,\n",
    "  5635.994626251078,\n",
    "  5634.922981467614,\n",
    "  5783.797564784011,\n",
    "  5634.617662881217,\n",
    "  5746.115286457121]\n",
    "\n",
    "bic3 =  [6052.154187442918,\n",
    "  6221.531036602902,\n",
    "  6208.802906424792,\n",
    "  6197.183475153281,\n",
    "  5803.297371252988,\n",
    "  6097.2706985361565,\n",
    "  6096.1990537526935,\n",
    "  6245.073637069089,\n",
    "  6095.893735166296,\n",
    "  6207.3913587422]"
   ]
  },
  {
   "cell_type": "code",
   "execution_count": 170,
   "id": "warming-techno",
   "metadata": {},
   "outputs": [
    {
     "name": "stdout",
     "output_type": "stream",
     "text": [
      "[0.3149672816650056, 0.14832832973889196, 0.4106053812895942, 0.23045471629032788, 0.31940258394918664, 0.17135196738788422, 0.07470602935060508, 0.2167994848826071, 0.4265343302551689, 0.07943867186426591, 0.3491533666262171, 0.3255834467795009, 0.4372761895342053, 0.04401355171945025, 0.7283312987768006, 0.24699593819884422, 0.3854869082744865, 0.31306544595902847, 0.3536975082101063, 0.6633229257565891, 0.15033499774805828, 0.2589898595236636, 0.0563354171504871, 0.04829318557907173, 0.049538756853815286, 0.23638284347960678, 0.23788632764381973, 0.154573137191028, 0.13771266798062032, 0.32856855860554357, 0.2021749935803073, 0.016843810494501968, 0.2340590017015875, 0.2845260340629806, 0.2947283509075291, 0.22313594189436686, 0.4195790047537263, 0.051277850295804325, 0.06190893317878806, 0.05767553790235244, 0.4060925169227879, 0.34392499327742576, 0.26617937459841573, 0.16672210268196624, 0.02845161476952352, 0.019669762341164916, 0.1592944160436264, 0.24386083697462663, 0.23073660764645515, 0.3589508247609021]\n",
      "[0.3016688386077888, 0.5035190547822443, 0.26893069243577356, 0.19267978998733234, 0.41763261706501986, 0.37584144212082665, 0.48960121373799326, 0.41069347620864416, 0.27540952047892825, 0.2603880462987337, 0.26435363835918246, 0.3543525035286765, 0.4422514051423763, 0.27421318974864983, 0.2958271626544965, 0.4691874889037754, 0.23979937758876763, 0.25866106140002, 0.4277203330588362, 0.17725810675469256, 0.17548722388535648, 0.21043129698291713, 0.4100614436718937, 0.22560545033095936, 0.42968576725660645, 0.5649020266060165, 0.30222495507272507, 0.3875974596519344, 0.5415008758611086, 0.4080842057988484, 0.28796810374742476, 0.44461195671122344, 0.2983711141229116, 0.2811763274145104, 0.3770944512474904, 0.33730174097764454, 0.3477761164880766, 0.42621736146210754, 0.37334545873296976, 0.43993998520934313, 0.2809032546061284, 0.2778523400861399, 0.3320676602444813, 0.3332358240141281, 0.5350178861956117, 0.42310356661818593, 0.33257758084124966, 0.25029787341966914, 0.11424445767158174, 0.3716532321178395]\n",
      "[6.048171394483916, 9.35714393675297, 5.662188986521867, 5.544333203940337, 6.181496513025592, 6.352927745943225, 14.669707860082976, 8.751990185801674, 5.296668686976521, 14.660157459696297, 5.6130789469202265, 5.953430035783294, 4.929091876897335, 13.429392034893432, 4.997442567709438, 6.941510752378682, 6.491745595433141, 5.874047755455724, 6.441803271296051, 5.462038478972062, 8.296686039462239, 6.88006113388515, 20.87324030070637, 11.94289494445313, 28.71034244301659, 6.26307219895569, 6.2933205093998446, 7.160020644682988, 13.465108291021322, 5.490865708482799, 8.864244150087432, 58.216556325872205, 6.464526014370577, 5.414290736157435, 4.5739505492214745, 7.0335055986241155, 4.358766936928777, 22.416235161708343, 15.26447076404374, 15.507568744685077, 5.9746664357134005, 6.977621145848934, 6.8330916980518195, 13.359492192172238, 33.26989856273816, 44.58151461192891, 9.562368292882262, 6.566847327292784, 6.233369851698365, 7.272307602875804]\n"
     ]
    }
   ],
   "source": [
    "al_p,al_m,be = 0.25,0.35,6\n",
    "new_choice,new_outcome = new_simulate_k(al_p,al_m,be,50)\n",
    "op_al_p,op_al_m,op_be = optimiz_k(new_choice,new_outcome,50)\n",
    "print(op_al_p)\n",
    "print(op_al_m)\n",
    "print(op_be)"
   ]
  },
  {
   "cell_type": "code",
   "execution_count": 171,
   "id": "little-kentucky",
   "metadata": {},
   "outputs": [],
   "source": [
    "final_results = []\n",
    "for i in range(50):\n",
    "    a,b = np.array(choices.iloc[i]),np.array(outcomes.iloc[i])\n",
    "    foo2 = lambda P: nll_k(P[0], P[1],P[2], a, b)\n",
    "    initial_guess = (0.25,0.35,6)\n",
    "    results = minimize(foo2,x0 = initial_guess, method='Nelder-Mead')\n",
    "    final_results.append(results.x)"
   ]
  },
  {
   "cell_type": "code",
   "execution_count": 173,
   "id": "regional-reporter",
   "metadata": {},
   "outputs": [],
   "source": [
    "#print(final_results)"
   ]
  },
  {
   "cell_type": "code",
   "execution_count": 174,
   "id": "advised-trace",
   "metadata": {},
   "outputs": [],
   "source": [
    "alphas_p = [final_results[i][0] for i in range(50)]\n",
    "alphas_m = [final_results[i][1] for i in range(50)]\n",
    "betas = [final_results[i][2] for i in range(50)]"
   ]
  },
  {
   "cell_type": "code",
   "execution_count": 176,
   "id": "impressed-performance",
   "metadata": {},
   "outputs": [],
   "source": [
    "alphas_p_group1 = alphas_p[0:25]\n",
    "alphas_p_group2 = alphas_p[25:50]\n",
    "alphas_m_group1 = alphas_m[0:25]\n",
    "alphas_m_group2 = alphas_m[25:50]"
   ]
  },
  {
   "cell_type": "code",
   "execution_count": 177,
   "id": "working-marketing",
   "metadata": {},
   "outputs": [
    {
     "name": "stdout",
     "output_type": "stream",
     "text": [
      "Ttest_indResult(statistic=0.9787552608936594, pvalue=0.3326083624271702)\n"
     ]
    }
   ],
   "source": [
    "from scipy import stats\n",
    "print(stats.ttest_ind(alphas_p_group1,alphas_p_group2,equal_var = True))"
   ]
  },
  {
   "cell_type": "code",
   "execution_count": 178,
   "id": "destroyed-anniversary",
   "metadata": {},
   "outputs": [
    {
     "name": "stdout",
     "output_type": "stream",
     "text": [
      "Ttest_indResult(statistic=2.8369067782971484, pvalue=0.006653162583563429)\n"
     ]
    }
   ],
   "source": [
    "from scipy import stats\n",
    "print(stats.ttest_ind(alphas_m_group1,alphas_m_group2,equal_var = True))"
   ]
  },
  {
   "cell_type": "code",
   "execution_count": 180,
   "id": "filled-atmosphere",
   "metadata": {},
   "outputs": [
    {
     "name": "stdout",
     "output_type": "stream",
     "text": [
      "Ttest_indResult(statistic=1.7226035623246954, pvalue=0.09139836108552696)\n"
     ]
    }
   ],
   "source": [
    "betas_group1 = betas[0:25]\n",
    "betas_group2 = betas[25:50]\n",
    "from scipy import stats\n",
    "print(stats.ttest_ind(betas_group1,betas_group2,equal_var = True))"
   ]
  },
  {
   "cell_type": "code",
   "execution_count": 197,
   "id": "serial-proxy",
   "metadata": {},
   "outputs": [],
   "source": [
    "import seaborn as sns\n",
    "def plot_aic_comp(aic1,aic2,st,a,b):\n",
    "    cf_matrix = np.zeros(shape = (60,60))\n",
    "    aic1,aic2 = np.round(aic1),np.round(aic2)\n",
    "    print(aic1.shape,aic2.shape)\n",
    "    for i,l in enumerate(cf_matrix):\n",
    "        for j,m in enumerate(l):\n",
    "            if(aic1[i] < aic2[j]):\n",
    "                cf_matrix[i][j] =1\n",
    "    #print(cf_matrix)\n",
    "    ax = sns.heatmap(cf_matrix, annot=True, cmap='Blues')\n",
    "    if(st == 'aic'):\n",
    "        t = \"AIC\"\n",
    "    else:\n",
    "        t = \"BIC\"\n",
    "    ax.set_title('Comparison in {} scores for model{},model{}'.format(t,a,b));\n",
    "    ax.set_xlabel('{} Model {}'.format(t,a))\n",
    "    ax.set_ylabel('{} Model {}'.format(t,b));\n",
    "\n",
    "    ## Ticket labels - List must be in alphabetical order\n",
    "    ax.xaxis.set_ticklabels(list(range(10)))\n",
    "    ax.yaxis.set_ticklabels(list(range(10)))\n",
    "\n",
    "    ## Display the visualization of the Confusion Matrix.\n",
    "    plt.show()"
   ]
  },
  {
   "cell_type": "code",
   "execution_count": 1,
   "id": "fresh-village",
   "metadata": {},
   "outputs": [],
   "source": [
    "#plot_aic_comp(aic1,aic3,\"aic\",1,3)"
   ]
  },
  {
   "cell_type": "code",
   "execution_count": null,
   "id": "possible-conjunction",
   "metadata": {},
   "outputs": [],
   "source": [
    "#plot_aic_comp(aic1,aic2,\"aic\",1,2)"
   ]
  },
  {
   "cell_type": "code",
   "execution_count": null,
   "id": "diagnostic-secretary",
   "metadata": {},
   "outputs": [],
   "source": [
    "#plot_aic_comp(aic2,aic3,\"aic\",2,3)"
   ]
  },
  {
   "cell_type": "code",
   "execution_count": null,
   "id": "average-standard",
   "metadata": {},
   "outputs": [],
   "source": [
    "#plot_aic_comp(bic1,bic3,\"bic\",1,3)"
   ]
  },
  {
   "cell_type": "code",
   "execution_count": null,
   "id": "frank-pattern",
   "metadata": {},
   "outputs": [],
   "source": [
    "#plot_aic_comp(bic1,bic2,\"bic\",1,2)"
   ]
  },
  {
   "cell_type": "code",
   "execution_count": null,
   "id": "solar-process",
   "metadata": {},
   "outputs": [],
   "source": [
    "#plot_aic_comp(bic2,bic3,\"bic\",2,3)"
   ]
  },
  {
   "cell_type": "code",
   "execution_count": null,
   "id": "muslim-group",
   "metadata": {},
   "outputs": [],
   "source": [
    "original data = [6070,6123,6043]\n",
    "simulated data = [5609,8048,5591]"
   ]
  },
  {
   "cell_type": "code",
   "execution_count": 218,
   "id": "narrow-purple",
   "metadata": {},
   "outputs": [
    {
     "data": {
      "image/png": "[encoded data removed]",
      "text/plain": [
       "<Figure size 432x288 with 2 Axes>"
      ]
     },
     "metadata": {
      "needs_background": "light"
     },
     "output_type": "display_data"
    }
   ],
   "source": [
    "aic = [[0.783,0,0.217],[0.33,0.14,0.53],[0.42,0.11,0.47]]\n",
    "import seaborn as sn\n",
    "s = sn.heatmap(aic,annot = True)\n",
    "plt.title(\"AIC score comparison\",fontsize = 18)\n",
    "s.set(xlabel = 'Fitted model',ylabel = 'simulated model')\n",
    "plt.show()"
   ]
  },
  {
   "cell_type": "code",
   "execution_count": 221,
   "id": "pleasant-regard",
   "metadata": {},
   "outputs": [
    {
     "data": {
      "image/png": "[encoded data removed]",
      "text/plain": [
       "<Figure size 432x288 with 2 Axes>"
      ]
     },
     "metadata": {
      "needs_background": "light"
     },
     "output_type": "display_data"
    }
   ],
   "source": [
    "bic = [[0.95,0,0.05],[0.58,0.0,0.42],[0.68,0.0,0.32]]\n",
    "import seaborn as sn\n",
    "s = sn.heatmap(bic,annot = True)\n",
    "plt.title(\"BIC score comparison\",fontsize = 18)\n",
    "s.set(xlabel = 'Fitted model',ylabel = 'simulated model')\n",
    "plt.show()"
   ]
  }
 ],
 "metadata": {
  "kernelspec": {
   "display_name": "Python 3 (ipykernel)",
   "language": "python",
   "name": "python3"
  },
  "language_info": {
   "codemirror_mode": {
    "name": "ipython",
    "version": 3
   },
   "file_extension": ".py",
   "mimetype": "text/x-python",
   "name": "python",
   "nbconvert_exporter": "python",
   "pygments_lexer": "ipython3",
   "version": "3.9.2"
  }
 },
 "nbformat": 4,
 "nbformat_minor": 5
}
